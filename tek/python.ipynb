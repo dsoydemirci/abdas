{
 "cells": [
  {
   "cell_type": "code",
   "execution_count": 10,
   "metadata": {
    "scrolled": true
   },
   "outputs": [
    {
     "name": "stdout",
     "output_type": "stream",
     "text": [
      "akk\n",
      "basss\n"
     ]
    }
   ],
   "source": [
    "print(\"akk\\nbasss\")"
   ]
  },
  {
   "cell_type": "code",
   "execution_count": 11,
   "metadata": {},
   "outputs": [
    {
     "name": "stdout",
     "output_type": "stream",
     "text": [
      "sss\tsss\n"
     ]
    }
   ],
   "source": [
    "print(\"sss\\tsss\")"
   ]
  },
  {
   "cell_type": "code",
   "execution_count": 12,
   "metadata": {},
   "outputs": [
    {
     "data": {
      "text/plain": [
       "str"
      ]
     },
     "execution_count": 12,
     "metadata": {},
     "output_type": "execute_result"
    }
   ],
   "source": [
    "type(\"ss\")"
   ]
  },
  {
   "cell_type": "code",
   "execution_count": 16,
   "metadata": {},
   "outputs": [
    {
     "name": "stdout",
     "output_type": "stream",
     "text": [
      "<class 'int'>\n"
     ]
    }
   ],
   "source": [
    "a = 65\n",
    "print(type(a))"
   ]
  },
  {
   "cell_type": "code",
   "execution_count": 17,
   "metadata": {},
   "outputs": [
    {
     "name": "stdout",
     "output_type": "stream",
     "text": [
      "3.4.5.6.7.8.9\n"
     ]
    }
   ],
   "source": [
    "print(3,4,5,6,7,8,9,sep = \".\")"
   ]
  },
  {
   "cell_type": "code",
   "execution_count": 18,
   "metadata": {},
   "outputs": [
    {
     "name": "stdout",
     "output_type": "stream",
     "text": [
      "06/04/2015\n"
     ]
    }
   ],
   "source": [
    "print(\"06\",\"04\",\"2015\",sep = \"/\")"
   ]
  },
  {
   "cell_type": "code",
   "execution_count": 19,
   "metadata": {},
   "outputs": [
    {
     "name": "stdout",
     "output_type": "stream",
     "text": [
      "T.B.M.M\n"
     ]
    }
   ],
   "source": [
    "print(*\"TBMM\",sep =\".\")"
   ]
  },
  {
   "cell_type": "code",
   "execution_count": 21,
   "metadata": {},
   "outputs": [
    {
     "name": "stdout",
     "output_type": "stream",
     "text": [
      "3 + 4 'nin toplamı 7 'dır\n"
     ]
    }
   ],
   "source": [
    "a = 3\n",
    "b = 4\n",
    "print(\"{} + {} 'nin toplamı {} 'dır\".format(a,b,a+b))"
   ]
  },
  {
   "cell_type": "code",
   "execution_count": 22,
   "metadata": {},
   "outputs": [
    {
     "name": "stdout",
     "output_type": "stream",
     "text": [
      "[3, 4, 5, 6]\n"
     ]
    }
   ],
   "source": [
    "liste = [3,4,5,6,7,8,9,10]\n",
    "# Baştan 4. indekse kadar (dahil değil)\n",
    "print(liste[:4])"
   ]
  },
  {
   "cell_type": "code",
   "execution_count": 23,
   "metadata": {},
   "outputs": [
    {
     "name": "stdout",
     "output_type": "stream",
     "text": [
      "[4, 5, 6, 7]\n"
     ]
    }
   ],
   "source": [
    "# 1.indeksten 5.indekse kadar\n",
    "print(liste[1:5])"
   ]
  },
  {
   "cell_type": "code",
   "execution_count": 24,
   "metadata": {},
   "outputs": [
    {
     "name": "stdout",
     "output_type": "stream",
     "text": [
      "[3, 5, 7, 9]\n"
     ]
    }
   ],
   "source": [
    "print(liste[::2])"
   ]
  },
  {
   "cell_type": "code",
   "execution_count": 25,
   "metadata": {},
   "outputs": [
    {
     "name": "stdout",
     "output_type": "stream",
     "text": [
      "[3, 4, 5, 6, 7, 'Murat']\n"
     ]
    }
   ],
   "source": [
    "#liste. de tab a bas ne yapabileceğini gör.\n",
    "liste = [3,4,5,6]\n",
    "liste.append(7)\n",
    "liste.append(\"Murat\")\n",
    "print(liste)"
   ]
  },
  {
   "cell_type": "code",
   "execution_count": 26,
   "metadata": {},
   "outputs": [
    {
     "name": "stdout",
     "output_type": "stream",
     "text": [
      "[1, 2, 3, 4]\n"
     ]
    }
   ],
   "source": [
    "liste = [1,2,3,4,5]\n",
    "liste.pop()\n",
    " \n",
    "print(liste)"
   ]
  },
  {
   "cell_type": "code",
   "execution_count": 27,
   "metadata": {},
   "outputs": [
    {
     "name": "stdout",
     "output_type": "stream",
     "text": [
      "[1, 3, 4, 5]\n"
     ]
    }
   ],
   "source": [
    "liste = [1,2,3,4,5]\n",
    "liste.pop(1)\n",
    " \n",
    "print(liste)"
   ]
  },
  {
   "cell_type": "code",
   "execution_count": 28,
   "metadata": {},
   "outputs": [
    {
     "name": "stdout",
     "output_type": "stream",
     "text": [
      "[1, 2, 3, 19, 23, 34, 56, 334]\n"
     ]
    }
   ],
   "source": [
    "liste = [34,1,56,334,23,2,3,19]\n",
    "liste.sort() # Küçükten büyüğe sıralar.\n",
    "print(liste)"
   ]
  },
  {
   "cell_type": "code",
   "execution_count": 29,
   "metadata": {},
   "outputs": [
    {
     "name": "stdout",
     "output_type": "stream",
     "text": [
      "3\n"
     ]
    }
   ],
   "source": [
    "# Demeti oluşturalım.\n",
    "demet = (1,2,3,\"Mustafa\",\"Murat\",\"Coşkun\")\n",
    "# \"Mustafa\" elemanının indeksini buluyoruz.yani mustafa kaçıncı yerde\n",
    "print(demet.index(\"Mustafa\"))\n",
    " "
   ]
  },
  {
   "cell_type": "code",
   "execution_count": 30,
   "metadata": {},
   "outputs": [
    {
     "data": {
      "text/plain": [
       "1"
      ]
     },
     "execution_count": 30,
     "metadata": {},
     "output_type": "execute_result"
    }
   ],
   "source": [
    "# Demeti oluşturalım. ve 2 kaç tane var demette ona bakalım\n",
    "demet = (1,2,3,\"Mustafa\",\"Murat\",\"Coşkun\")\n",
    "demet.count(2)"
   ]
  },
  {
   "cell_type": "code",
   "execution_count": 31,
   "metadata": {},
   "outputs": [
    {
     "name": "stdout",
     "output_type": "stream",
     "text": [
      "{'sıfır': 0, 'bir': 1, 'iki': 2, 'üç': 3}\n"
     ]
    }
   ],
   "source": [
    "# Süslü Parantez ve iki nokta (:) ile anahtar değerlerimizi yerleştirelim.\n",
    "sözlük1 = {\"sıfır\":0,\"bir\":1,\"iki\":2,\"üç\":3}\n",
    " \n",
    "print(sözlük1)"
   ]
  },
  {
   "cell_type": "code",
   "execution_count": 34,
   "metadata": {},
   "outputs": [
    {
     "data": {
      "text/plain": [
       "0"
      ]
     },
     "execution_count": 34,
     "metadata": {},
     "output_type": "execute_result"
    }
   ],
   "source": [
    "sözlük1[\"sıfır\"]"
   ]
  },
  {
   "cell_type": "code",
   "execution_count": 35,
   "metadata": {},
   "outputs": [
    {
     "name": "stdout",
     "output_type": "stream",
     "text": [
      "{'bir': [1, 2, 3, 4], 'iki': [[1, 2], [3, 4], [5, 6]], 'üç': 15}\n",
      "[[1, 2], [3, 4], [5, 6]]\n",
      "4\n",
      "15\n",
      "20\n",
      "{'bir': [1, 2, 3, 4], 'iki': [[1, 2], [3, 4], [5, 6]], 'üç': 20}\n"
     ]
    }
   ],
   "source": [
    "a = {\"bir\" : [1,2,3,4], \"iki\": [[1,2],[3,4],[5,6]],\"üç\" : 15}\n",
    " \n",
    "print(a)\n",
    "# \"iki\" anahtarının değeri\n",
    "print(a[\"iki\"])\n",
    " \n",
    "# İçiçe listeleri biliyoruz.\n",
    "print(a[\"iki\"][1][1])\n",
    " \n",
    "print(a[\"üç\"])\n",
    " \n",
    "a[\"üç\"] += 5\n",
    "print(a[\"üç\"])\n",
    " \n",
    "print(a)"
   ]
  },
  {
   "cell_type": "code",
   "execution_count": 36,
   "metadata": {},
   "outputs": [
    {
     "name": "stdout",
     "output_type": "stream",
     "text": [
      "{'bir': 1, 'iki': 2, 'üç': 3, 'dört': 4}\n"
     ]
    }
   ],
   "source": [
    "# Sözlük oluşturalım.\n",
    "a = {\"bir\":1,\"iki\":2,\"üç\":3}\n",
    "\n",
    "a[\"dört\"] = 4 \n",
    "\n",
    "print(a)"
   ]
  },
  {
   "cell_type": "code",
   "execution_count": 37,
   "metadata": {},
   "outputs": [
    {
     "name": "stdout",
     "output_type": "stream",
     "text": [
      "dict_values([1, 2, 3])\n",
      "dict_keys(['bir', 'iki', 'üç'])\n",
      "dict_items([('bir', 1), ('iki', 2), ('üç', 3)])\n"
     ]
    }
   ],
   "source": [
    "yeni_sözlük = {\"bir\":1,\"iki\":2,\"üç\":3}\n",
    " \n",
    "# values() metodu sözlüğün değerlerini(value) bir liste olarak döner.\n",
    "print(yeni_sözlük.values())\n",
    " \n",
    "# keys() metodu sözlüğün anahtarlarını(key) bir liste olarak döner.\n",
    "print(yeni_sözlük.keys())\n",
    " \n",
    "# items() metodu sözlüğün anahtar ve değerlerini bir liste içinde demet olarak döner.\n",
    "print(yeni_sözlük.items())\n",
    " "
   ]
  },
  {
   "cell_type": "code",
   "execution_count": 1,
   "metadata": {},
   "outputs": [
    {
     "name": "stdout",
     "output_type": "stream",
     "text": [
      "Lütfen bir sayı giriniz:24\n"
     ]
    },
    {
     "data": {
      "text/plain": [
       "'24'"
      ]
     },
     "execution_count": 1,
     "metadata": {},
     "output_type": "execute_result"
    }
   ],
   "source": [
    "input(\"Lütfen bir sayı giriniz:\")\n"
   ]
  },
  {
   "cell_type": "code",
   "execution_count": 2,
   "metadata": {},
   "outputs": [
    {
     "name": "stdout",
     "output_type": "stream",
     "text": [
      "Lütfen bir sayı giriniz:24\n",
      "Kullanıcının girdiği değer: 24\n"
     ]
    }
   ],
   "source": [
    "a = input(\"Lütfen bir sayı giriniz:\") # Kullanıcıdan aldığımız değer a değişkenine eşit olacak.\n",
    "print(\"Kullanıcının girdiği değer:\",a)\n",
    " "
   ]
  },
  {
   "cell_type": "code",
   "execution_count": 3,
   "metadata": {},
   "outputs": [
    {
     "name": "stdout",
     "output_type": "stream",
     "text": [
      "Lütfen bir sayı giriniz:22\n",
      "66\n"
     ]
    }
   ],
   "source": [
    "a = int(input(\"Lütfen bir sayı giriniz:\")) # Veri tipi dönüşümü bunu böyle int yapma sebebimiz type ı str olduuğu için\n",
    "print(a * 3) "
   ]
  },
  {
   "cell_type": "code",
   "execution_count": 2,
   "metadata": {},
   "outputs": [
    {
     "data": {
      "text/plain": [
       "bool"
      ]
     },
     "execution_count": 2,
     "metadata": {},
     "output_type": "execute_result"
    }
   ],
   "source": [
    "a = True\n",
    "type(a)"
   ]
  },
  {
   "cell_type": "code",
   "execution_count": 8,
   "metadata": {},
   "outputs": [
    {
     "data": {
      "text/plain": [
       "False"
      ]
     },
     "execution_count": 8,
     "metadata": {},
     "output_type": "execute_result"
    }
   ],
   "source": [
    "# 0 dan farklı herşey true 0 false\n",
    "bool(0)"
   ]
  },
  {
   "cell_type": "code",
   "execution_count": 9,
   "metadata": {},
   "outputs": [
    {
     "data": {
      "text/plain": [
       "True"
      ]
     },
     "execution_count": 9,
     "metadata": {},
     "output_type": "execute_result"
    }
   ],
   "source": [
    "bool(2)"
   ]
  },
  {
   "cell_type": "code",
   "execution_count": 7,
   "metadata": {},
   "outputs": [
    {
     "data": {
      "text/plain": [
       "True"
      ]
     },
     "execution_count": 7,
     "metadata": {},
     "output_type": "execute_result"
    }
   ],
   "source": [
    "bool(0.9)"
   ]
  },
  {
   "cell_type": "code",
   "execution_count": 10,
   "metadata": {},
   "outputs": [
    {
     "data": {
      "text/plain": [
       "False"
      ]
     },
     "execution_count": 10,
     "metadata": {},
     "output_type": "execute_result"
    }
   ],
   "source": [
    "\"Oğuz\" < \"Murat\" # Alfabetik olarak bakar.\n"
   ]
  },
  {
   "cell_type": "code",
   "execution_count": 11,
   "metadata": {},
   "outputs": [],
   "source": [
    "#and operatöründe bir tane bile false olursa sonuç kesinlikle false\n",
    "#or operatöründe false olması için hepsinin false olması gerek.bir true bile olsa sonuç true"
   ]
  },
  {
   "cell_type": "code",
   "execution_count": 12,
   "metadata": {},
   "outputs": [
    {
     "data": {
      "text/plain": [
       "True"
      ]
     },
     "execution_count": 12,
     "metadata": {},
     "output_type": "execute_result"
    }
   ],
   "source": [
    "1 < 2 and \"Murat\" == \"Murat\""
   ]
  },
  {
   "cell_type": "code",
   "execution_count": 13,
   "metadata": {},
   "outputs": [
    {
     "data": {
      "text/plain": [
       "False"
      ]
     },
     "execution_count": 13,
     "metadata": {},
     "output_type": "execute_result"
    }
   ],
   "source": [
    "2 == 2 and 3.14 < 2.54 and \"Elma\" != \"Armut\""
   ]
  },
  {
   "cell_type": "code",
   "execution_count": 14,
   "metadata": {},
   "outputs": [
    {
     "data": {
      "text/plain": [
       "True"
      ]
     },
     "execution_count": 14,
     "metadata": {},
     "output_type": "execute_result"
    }
   ],
   "source": [
    "1 < 2 or \"Murat\" != \"Murat\""
   ]
  },
  {
   "cell_type": "code",
   "execution_count": 15,
   "metadata": {},
   "outputs": [
    {
     "data": {
      "text/plain": [
       "False"
      ]
     },
     "execution_count": 15,
     "metadata": {},
     "output_type": "execute_result"
    }
   ],
   "source": [
    "2 > 3 or \"Murat\" != \"Murat\""
   ]
  },
  {
   "cell_type": "code",
   "execution_count": 16,
   "metadata": {},
   "outputs": [],
   "source": [
    "#not operatörü true ise false false ise true yapar."
   ]
  },
  {
   "cell_type": "code",
   "execution_count": 1,
   "metadata": {},
   "outputs": [
    {
     "name": "stdout",
     "output_type": "stream",
     "text": [
      "Eleman 1\n",
      "Eleman 2\n",
      "Eleman 3\n",
      "Eleman 4\n",
      "Eleman 5\n",
      "Eleman 6\n",
      "Eleman 7\n"
     ]
    }
   ],
   "source": [
    "liste = [1,2,3,4,5,6,7]\n",
    " \n",
    "for eleman in liste:\n",
    "    print(\"Eleman\",eleman)"
   ]
  },
  {
   "cell_type": "code",
   "execution_count": 2,
   "metadata": {},
   "outputs": [
    {
     "name": "stdout",
     "output_type": "stream",
     "text": [
      "Toplam 28\n"
     ]
    }
   ],
   "source": [
    "# Liste elemanlarını toplama\n",
    "liste = [1,2,3,4,5,6,7]\n",
    "toplam = 0\n",
    "for eleman in liste:\n",
    "    toplam += eleman\n",
    "print(\"Toplam\",toplam)\n",
    " "
   ]
  },
  {
   "cell_type": "code",
   "execution_count": 3,
   "metadata": {},
   "outputs": [
    {
     "name": "stdout",
     "output_type": "stream",
     "text": [
      "1 2\n",
      "3 4\n",
      "5 6\n",
      "7 8\n"
     ]
    }
   ],
   "source": [
    "# Demet içindeki herbir elemanı almak için pratik yöntem\n",
    "liste = [(1,2),(3,4),(5,6),(7,8)]\n",
    " \n",
    "for (i,j) in liste:\n",
    "    print(i,j)"
   ]
  },
  {
   "cell_type": "code",
   "execution_count": 4,
   "metadata": {},
   "outputs": [
    {
     "name": "stdout",
     "output_type": "stream",
     "text": [
      "bir\n",
      "iki\n",
      "üç\n",
      "dört\n"
     ]
    }
   ],
   "source": [
    "sözlük = {\"bir\":1,\"iki\":2,\"üç\":3,\"dört\":4}\n",
    " \n",
    "for eleman in sözlük:\n",
    "    print(eleman)\n",
    " "
   ]
  },
  {
   "cell_type": "code",
   "execution_count": 5,
   "metadata": {},
   "outputs": [
    {
     "name": "stdout",
     "output_type": "stream",
     "text": [
      "bir\n",
      "iki\n",
      "üç\n",
      "dört\n"
     ]
    }
   ],
   "source": [
    "# keys() - Aynı şey\n",
    "sözlük = {\"bir\":1,\"iki\":2,\"üç\":3,\"dört\":4}\n",
    " \n",
    "for eleman in sözlük.keys():\n",
    "    print(eleman)\n",
    " \n"
   ]
  },
  {
   "cell_type": "code",
   "execution_count": 6,
   "metadata": {},
   "outputs": [
    {
     "name": "stdout",
     "output_type": "stream",
     "text": [
      "1\n",
      "2\n",
      "3\n",
      "4\n"
     ]
    }
   ],
   "source": [
    "# values() \n",
    "sözlük = {\"bir\":1,\"iki\":2,\"üç\":3,\"dört\":4}\n",
    " \n",
    "for eleman in sözlük.values():\n",
    "    print(eleman)"
   ]
  },
  {
   "cell_type": "code",
   "execution_count": 7,
   "metadata": {},
   "outputs": [
    {
     "name": "stdout",
     "output_type": "stream",
     "text": [
      "Anahtar: bir Değer: 1\n",
      "Anahtar: iki Değer: 2\n",
      "Anahtar: üç Değer: 3\n",
      "Anahtar: dört Değer: 4\n"
     ]
    }
   ],
   "source": [
    "# items() \n",
    "sözlük = {\"bir\":1,\"iki\":2,\"üç\":3,\"dört\":4}\n",
    " \n",
    "for (i,j) in sözlük.items():\n",
    "    print(\"Anahtar:\",i,\"Değer:\",j)"
   ]
  },
  {
   "cell_type": "code",
   "execution_count": 8,
   "metadata": {},
   "outputs": [
    {
     "name": "stdout",
     "output_type": "stream",
     "text": [
      "i'nin değeri 0\n",
      "i'nin değeri 1\n",
      "i'nin değeri 2\n",
      "i'nin değeri 3\n",
      "i'nin değeri 4\n",
      "i'nin değeri 5\n",
      "i'nin değeri 6\n",
      "i'nin değeri 7\n",
      "i'nin değeri 8\n",
      "i'nin değeri 9\n"
     ]
    }
   ],
   "source": [
    "i = 0 \n",
    " \n",
    "while (i < 10):\n",
    "    print(\"i'nin değeri\",i)\n",
    "    i += 1 # Koşulun bir süre sonra False olması için gerekli"
   ]
  },
  {
   "cell_type": "code",
   "execution_count": 9,
   "metadata": {},
   "outputs": [
    {
     "name": "stdout",
     "output_type": "stream",
     "text": [
      "i'nin değeri 0\n",
      "i'nin değeri 2\n",
      "i'nin değeri 4\n",
      "i'nin değeri 6\n",
      "i'nin değeri 8\n",
      "i'nin değeri 10\n",
      "i'nin değeri 12\n",
      "i'nin değeri 14\n",
      "i'nin değeri 16\n",
      "i'nin değeri 18\n"
     ]
    }
   ],
   "source": [
    "# Döngüde i değerlerini ekrana yazdırma\n",
    " \n",
    "i = 0 \n",
    " \n",
    "while (i < 20):\n",
    "    print(\"i'nin değeri\",i)\n",
    "    i += 2 # Koşulun bir süre sonra False olması için gerekli"
   ]
  },
  {
   "cell_type": "code",
   "execution_count": 11,
   "metadata": {
    "scrolled": false
   },
   "outputs": [
    {
     "name": "stdout",
     "output_type": "stream",
     "text": [
      "Python Öğreniyorum\n",
      "Python Öğreniyorum\n",
      "Python Öğreniyorum\n",
      "Python Öğreniyorum\n",
      "Python Öğreniyorum\n",
      "Python Öğreniyorum\n",
      "Python Öğreniyorum\n",
      "Python Öğreniyorum\n",
      "Python Öğreniyorum\n",
      "Python Öğreniyorum\n"
     ]
    }
   ],
   "source": [
    "# Ekrana 10 defa \"Python Öğreniyorum\" yazdıralım.\n",
    "i = 0\n",
    " \n",
    "while (i < 10):\n",
    "    print(\"Python Öğreniyorum\")\n",
    "    i +=1"
   ]
  },
  {
   "cell_type": "code",
   "execution_count": 12,
   "metadata": {},
   "outputs": [
    {
     "name": "stdout",
     "output_type": "stream",
     "text": [
      "Indeks: 0 Eleman: 1\n",
      "Indeks: 1 Eleman: 2\n",
      "Indeks: 2 Eleman: 3\n",
      "Indeks: 3 Eleman: 4\n",
      "Indeks: 4 Eleman: 5\n"
     ]
    }
   ],
   "source": [
    "# Liste üzerinde indeks ile gezinme\n",
    "liste = [1,2,3,4,5]\n",
    " \n",
    "a = 0 \n",
    " \n",
    "while (a < len(liste)):\n",
    "    print(\"Indeks:\",a,\"Eleman:\",liste[a])\n",
    "    a +=1\n",
    " "
   ]
  },
  {
   "cell_type": "code",
   "execution_count": 14,
   "metadata": {},
   "outputs": [
    {
     "name": "stdout",
     "output_type": "stream",
     "text": [
      "0 1 2 3 4 5 6 7 8 9 10 11 12 13 14 15 16 17 18 19\n"
     ]
    }
   ],
   "source": [
    "print(*range(0,20))"
   ]
  },
  {
   "cell_type": "code",
   "execution_count": 16,
   "metadata": {},
   "outputs": [
    {
     "name": "stdout",
     "output_type": "stream",
     "text": [
      "[0, 1, 2, 3, 4, 5, 6, 7, 8, 9, 10, 11, 12, 13, 14, 15, 16, 17, 18, 19]\n"
     ]
    }
   ],
   "source": [
    "liste = list(range(0,20)) # list fonksiyonuyla listeye dönüştürebilir.\n",
    "print(liste)"
   ]
  },
  {
   "cell_type": "code",
   "execution_count": 17,
   "metadata": {},
   "outputs": [
    {
     "name": "stdout",
     "output_type": "stream",
     "text": [
      "5 6 7 8 9\n"
     ]
    }
   ],
   "source": [
    "print(*range(5,10))"
   ]
  },
  {
   "cell_type": "code",
   "execution_count": 18,
   "metadata": {},
   "outputs": [
    {
     "name": "stdout",
     "output_type": "stream",
     "text": [
      "0 1 2 3 4 5 6 7 8 9 10 11 12 13 14\n"
     ]
    }
   ],
   "source": [
    "print(*range(15))"
   ]
  },
  {
   "cell_type": "code",
   "execution_count": 19,
   "metadata": {},
   "outputs": [
    {
     "name": "stdout",
     "output_type": "stream",
     "text": [
      "5 7 9 11 13 15 17 19\n"
     ]
    }
   ],
   "source": [
    "print(*range(5,20,2)) # 5'ten 20'ye kadar olan sayıları 2 atlayarak oluşturur"
   ]
  },
  {
   "cell_type": "code",
   "execution_count": 20,
   "metadata": {},
   "outputs": [
    {
     "name": "stdout",
     "output_type": "stream",
     "text": [
      "20 19 18 17 16 15 14 13 12 11 10 9 8 7 6 5 4 3 2 1\n"
     ]
    }
   ],
   "source": [
    "print(*range(20,0,-1)) # 20'den geri gelen sayıları oluşturur."
   ]
  },
  {
   "cell_type": "code",
   "execution_count": 21,
   "metadata": {},
   "outputs": [
    {
     "name": "stdout",
     "output_type": "stream",
     "text": [
      "0\n",
      "1\n",
      "2\n",
      "3\n",
      "4\n",
      "5\n",
      "6\n",
      "7\n",
      "8\n",
      "9\n"
     ]
    }
   ],
   "source": [
    "for sayı in range(0,10):\n",
    "    print(sayı)"
   ]
  },
  {
   "cell_type": "code",
   "execution_count": 22,
   "metadata": {},
   "outputs": [
    {
     "name": "stdout",
     "output_type": "stream",
     "text": [
      "Yaşınızı giriniz:12\n",
      "Bu mekana giremezsiniz.\n"
     ]
    }
   ],
   "source": [
    "# 18 yaş kontrolü\n",
    "yaş = int(input(\"Yaşınızı giriniz:\"))\n",
    " \n",
    "if (yaş < 18):\n",
    "    # if bloğu -  Girinti ile sağlanıyor.\n",
    "    print(\"Bu mekana giremezsiniz.\")\n",
    "else:\n",
    "    # else bloğu -  if koşulu sağlanmazsa çalışacak.\n",
    "    print(\"Mekana hoşgeldiniz.\")"
   ]
  },
  {
   "cell_type": "code",
   "execution_count": 23,
   "metadata": {},
   "outputs": [
    {
     "name": "stdout",
     "output_type": "stream",
     "text": [
      "İşlem seçiniz:2\n",
      "2. işlem seçildi.\n"
     ]
    }
   ],
   "source": [
    "işlem =  int(input(\"İşlem seçiniz:\")) # 3 tane işlemimiz olsun.\n",
    " \n",
    "if işlem == 1:\n",
    "    print(\"1. işlem seçildi.\")\n",
    "elif işlem == 2:\n",
    "    print(\"2. işlem seçildi.\")\n",
    "elif işlem == 3:\n",
    "    print(\"3. işlem seçildi.\")\n",
    "else:\n",
    "    print(\"Geçersiz İşlem!\")"
   ]
  },
  {
   "cell_type": "code",
   "execution_count": 1,
   "metadata": {},
   "outputs": [],
   "source": [
    "#break en içteki döngüyü sonlandırır."
   ]
  },
  {
   "cell_type": "code",
   "execution_count": 21,
   "metadata": {},
   "outputs": [
    {
     "name": "stdout",
     "output_type": "stream",
     "text": [
      "0\n",
      "1\n",
      "2\n",
      "3\n",
      "4\n",
      "5\n",
      "6\n",
      "7\n",
      "8\n",
      "9\n",
      "10\n"
     ]
    }
   ],
   "source": [
    "i = 0 # break kullanmaya çalışalım.\n",
    " \n",
    "while (i < 20):\n",
    "    print(i)\n",
    "    if (i == 10):\n",
    "        break # i'nin değeri 10 olunca bu koşul sağlanıyor ve  break ifadesiyle karşılaşıldığı için döngü anında sona eriyor.\n",
    "    i +=1"
   ]
  },
  {
   "cell_type": "code",
   "execution_count": 22,
   "metadata": {},
   "outputs": [
    {
     "name": "stdout",
     "output_type": "stream",
     "text": [
      "i: 1\n",
      "i: 2\n",
      "i: 4\n",
      "i: 6\n",
      "i: 7\n",
      "i: 8\n",
      "i: 9\n"
     ]
    }
   ],
   "source": [
    "liste = [1,2,3,4,5,6,7,8,9] # continue kullanalım.\n",
    " \n",
    " \n",
    "for i in liste:\n",
    "    if (i == 3 or i == 5):\n",
    "        continue\n",
    "    print(\"i:\",i)\n",
    " "
   ]
  },
  {
   "cell_type": "code",
   "execution_count": 1,
   "metadata": {},
   "outputs": [
    {
     "name": "stdout",
     "output_type": "stream",
     "text": [
      "[1, 2, 3, 4, 5]\n"
     ]
    }
   ],
   "source": [
    "liste1 = [1,2,3,4,5] # Örnek 1 \n",
    " \n",
    "liste2 = [i for i in liste1] # List Comprehension\n",
    " \n",
    "print(liste2)\n",
    " "
   ]
  },
  {
   "cell_type": "code",
   "execution_count": 2,
   "metadata": {},
   "outputs": [
    {
     "name": "stdout",
     "output_type": "stream",
     "text": [
      "[2, 4, 6, 8, 10]\n"
     ]
    }
   ],
   "source": [
    "liste1 = [1,2,3,4,5] # Örnek 2\n",
    " \n",
    "liste2 = [i*2 for i in liste1] # List Comprehension\n",
    " \n",
    "print(liste2)"
   ]
  },
  {
   "cell_type": "code",
   "execution_count": 3,
   "metadata": {},
   "outputs": [
    {
     "name": "stdout",
     "output_type": "stream",
     "text": [
      "[2, 12, 30]\n"
     ]
    }
   ],
   "source": [
    "liste1 = [(1,2),(3,4),(5,6)] # Örnek 3\n",
    " \n",
    "liste2 = [i*j for (i,j) in liste1] # List Comprehension\n",
    " \n",
    "print(liste2)\n",
    " "
   ]
  },
  {
   "cell_type": "code",
   "execution_count": 4,
   "metadata": {},
   "outputs": [
    {
     "name": "stdout",
     "output_type": "stream",
     "text": [
      "[1, 2, 3, 4, 5, 6, 7, 8, 9, 10, 11, 12, 13, 14, 15]\n"
     ]
    }
   ],
   "source": [
    "liste = [[1,2,3],[4,5,6,7,8],[9,10,11,12,13,14,15]]\n",
    "liste2 = [x for i in liste for x in i] # Biraz karmaşık\n",
    "print(liste2)"
   ]
  },
  {
   "cell_type": "code",
   "execution_count": 3,
   "metadata": {},
   "outputs": [
    {
     "name": "stdout",
     "output_type": "stream",
     "text": [
      "Merhaba: ayşe\n"
     ]
    }
   ],
   "source": [
    "def selamla(isim): # isim değişkenimiz burada parametre olmaktadır\n",
    "    print(\"Merhaba:\",isim)\n",
    "    \n",
    "selamla(\"ayşe\")"
   ]
  },
  {
   "cell_type": "code",
   "execution_count": 5,
   "metadata": {},
   "outputs": [
    {
     "name": "stdout",
     "output_type": "stream",
     "text": [
      "Toplamları: 6\n"
     ]
    }
   ],
   "source": [
    "# Toplama fonksiyonu\n",
    "def toplama(a,b,c):\n",
    "    print(\"Toplamları:\",a+b+c)\n",
    "toplama(1,2,3)"
   ]
  },
  {
   "cell_type": "code",
   "execution_count": 7,
   "metadata": {},
   "outputs": [
    {
     "name": "stdout",
     "output_type": "stream",
     "text": [
      "Faktoriyel 6\n"
     ]
    }
   ],
   "source": [
    "def faktoriyel(sayı):\n",
    "    faktoriyel = 1\n",
    "4    if (sayı == 0 or sayı == 1):\n",
    "        print(\"Faktoriyel\",faktoriyel)\n",
    "    else:\n",
    "        while (sayı >= 1):\n",
    "            faktoriyel *= sayı\n",
    "            sayı -=1\n",
    "        print(\"Faktoriyel\", faktoriyel)\n",
    "faktoriyel(3)"
   ]
  },
  {
   "cell_type": "code",
   "execution_count": 8,
   "metadata": {},
   "outputs": [
    {
     "name": "stdout",
     "output_type": "stream",
     "text": [
      "24\n"
     ]
    }
   ],
   "source": [
    "def toplama(a,b,c):\n",
    "    return a+b+c # return'un kullanımı \n",
    "def ikiyle_çarp(a):\n",
    "    return a*2\n",
    " \n",
    "toplam = toplama(3,4,5)\n",
    "print(ikiyle_çarp(toplam))  #return kullanmassan iç içe yazınca olmaz."
   ]
  },
  {
   "cell_type": "code",
   "execution_count": 12,
   "metadata": {},
   "outputs": [
    {
     "name": "stdout",
     "output_type": "stream",
     "text": [
      "12\n"
     ]
    }
   ],
   "source": [
    "def toplama(a,b,c):\n",
    "    return a + b + c\n",
    "    print(\"Toplama fonksiyonu\") # bu Çalıştırılmadı.returnden aşşadaki çalışmaz\n",
    "print(toplama(3,4,5))"
   ]
  },
  {
   "cell_type": "code",
   "execution_count": 15,
   "metadata": {},
   "outputs": [
    {
     "name": "stdout",
     "output_type": "stream",
     "text": [
      "Selam :İsimsiz\n"
     ]
    }
   ],
   "source": [
    "def selamla(isim = \":İsimsiz\"):\n",
    "    print(\"Selam\",isim)\n",
    "selamla()"
   ]
  },
  {
   "cell_type": "code",
   "execution_count": 19,
   "metadata": {},
   "outputs": [
    {
     "name": "stdout",
     "output_type": "stream",
     "text": [
      "Ad: ahmet Soyad: gg Numara: ss\n",
      "Ad: Bilgi Yok Soyad: Bilgi Yok Numara: kkk\n"
     ]
    }
   ],
   "source": [
    "def bilgilerigöster(ad = \"Bilgi Yok\",soyad = \"Bilgi Yok\",numara =  \"Bilgi Yok\"):\n",
    "    print(\"Ad:\",ad,\"Soyad:\",soyad,\"Numara:\",numara)\n",
    "bilgilerigöster(\"ahmet\",\"gg\",\"ss\")\n",
    "bilgilerigöster(numara=\"kkk\")"
   ]
  },
  {
   "cell_type": "code",
   "execution_count": 22,
   "metadata": {},
   "outputs": [
    {
     "name": "stdout",
     "output_type": "stream",
     "text": [
      "9\n"
     ]
    }
   ],
   "source": [
    "def ds(a,b,c,d):\n",
    "    \n",
    "    print(a+b+c+d)\n",
    "ds(1,2,3,3)"
   ]
  },
  {
   "cell_type": "code",
   "execution_count": 27,
   "metadata": {},
   "outputs": [
    {
     "name": "stdout",
     "output_type": "stream",
     "text": [
      "Parametreler: (8, 1, 2)\n"
     ]
    },
    {
     "data": {
      "text/plain": [
       "11"
      ]
     },
     "execution_count": 27,
     "metadata": {},
     "output_type": "execute_result"
    }
   ],
   "source": [
    "def toplama(*parametreler): # Artık parametreler değişkenini bir demet gibi kullanabilirim.\n",
    "    toplam =  0\n",
    "    print(\"Parametreler:\",parametreler)\n",
    "    for i in parametreler:\n",
    "        toplam += i\n",
    "    return toplam\n",
    "toplama(8,1,2)"
   ]
  },
  {
   "cell_type": "code",
   "execution_count": 28,
   "metadata": {},
   "outputs": [
    {
     "name": "stdout",
     "output_type": "stream",
     "text": [
      "10\n"
     ]
    },
    {
     "ename": "NameError",
     "evalue": "name 'a' is not defined",
     "output_type": "error",
     "traceback": [
      "\u001b[1;31m---------------------------------------------------------------------------\u001b[0m",
      "\u001b[1;31mNameError\u001b[0m                                 Traceback (most recent call last)",
      "\u001b[1;32m<ipython-input-28-68c9020597d3>\u001b[0m in \u001b[0;36m<module>\u001b[1;34m\u001b[0m\n\u001b[0;32m      5\u001b[0m \u001b[1;33m\u001b[0m\u001b[0m\n\u001b[0;32m      6\u001b[0m \u001b[0mfonksiyon\u001b[0m\u001b[1;33m(\u001b[0m\u001b[1;33m)\u001b[0m\u001b[1;33m\u001b[0m\u001b[1;33m\u001b[0m\u001b[0m\n\u001b[1;32m----> 7\u001b[1;33m \u001b[0mprint\u001b[0m\u001b[1;33m(\u001b[0m\u001b[0ma\u001b[0m\u001b[1;33m)\u001b[0m\u001b[1;33m\u001b[0m\u001b[1;33m\u001b[0m\u001b[0m\n\u001b[0m",
      "\u001b[1;31mNameError\u001b[0m: name 'a' is not defined"
     ]
    }
   ],
   "source": [
    "def fonksiyon():\n",
    "    a = 10 # Yerel isim alanında bir değişken\n",
    "    print(a)\n",
    " \n",
    "    \n",
    "fonksiyon() \n",
    "print(a) #hata verme sebebi a  nın lokal değişken olması"
   ]
  },
  {
   "cell_type": "code",
   "execution_count": 29,
   "metadata": {},
   "outputs": [
    {
     "name": "stdout",
     "output_type": "stream",
     "text": [
      "5\n"
     ]
    }
   ],
   "source": [
    "a = 5 # Global isim alanında bir değişken .\n",
    " \n",
    "def fonksiyon():\n",
    "    print(a) # a değişkeni globalde tanımlandığı için burada tanımlı.\n",
    "    \n",
    "fonksiyon()"
   ]
  },
  {
   "cell_type": "code",
   "execution_count": 30,
   "metadata": {},
   "outputs": [
    {
     "name": "stdout",
     "output_type": "stream",
     "text": [
      "2\n",
      "10\n"
     ]
    }
   ],
   "source": [
    "c = 10 # Globalde tanımlanmış bir değişken \n",
    "def fonksiyon():\n",
    "    c = 2 # Yerelde tanımlanmış bir değişken\n",
    "    print(c)  # Yerel değişken kullanılıyor.\n",
    " \n",
    "fonksiyon()\n",
    "print(c)"
   ]
  },
  {
   "cell_type": "code",
   "execution_count": 31,
   "metadata": {},
   "outputs": [
    {
     "name": "stdout",
     "output_type": "stream",
     "text": [
      "4\n",
      "4\n"
     ]
    }
   ],
   "source": [
    "d = 10 \n",
    "def fonksiyon():\n",
    "    global d\n",
    "    \n",
    "    d = 4\n",
    "    print(d)\n",
    "fonksiyon()"
   ]
  },
  {
   "cell_type": "code",
   "execution_count": 32,
   "metadata": {},
   "outputs": [
    {
     "name": "stdout",
     "output_type": "stream",
     "text": [
      "10\n",
      "10\n"
     ]
    }
   ],
   "source": [
    "if True:\n",
    "    t = 10\n",
    "    print(t)     #if global sayılyıror\n",
    "    \n",
    " \n",
    "print(t)"
   ]
  },
  {
   "cell_type": "code",
   "execution_count": 33,
   "metadata": {},
   "outputs": [
    {
     "name": "stdout",
     "output_type": "stream",
     "text": [
      "10\n",
      "10\n"
     ]
    }
   ],
   "source": [
    "while True:\n",
    "    deger =  10\n",
    "    print(deger)\n",
    "    break\n",
    " \n",
    "print(deger)     # while de global"
   ]
  },
  {
   "cell_type": "code",
   "execution_count": 34,
   "metadata": {},
   "outputs": [
    {
     "name": "stdout",
     "output_type": "stream",
     "text": [
      "12\n"
     ]
    }
   ],
   "source": [
    "topla = lambda x,y,z : x + y + z\n",
    " \n",
    "print(topla(3,4,5))"
   ]
  },
  {
   "cell_type": "code",
   "execution_count": 35,
   "metadata": {},
   "outputs": [
    {
     "data": {
      "text/plain": [
       "False"
      ]
     },
     "execution_count": 35,
     "metadata": {},
     "output_type": "execute_result"
    }
   ],
   "source": [
    "çifttek = lambda sayı :  sayı % 2 == 0 \n",
    " \n",
    "çifttek(34)\n",
    " \n",
    "çifttek(13)\n",
    " "
   ]
  },
  {
   "cell_type": "code",
   "execution_count": 2,
   "metadata": {},
   "outputs": [
    {
     "ename": "IndentationError",
     "evalue": "unindent does not match any outer indentation level (<tokenize>, line 26)",
     "output_type": "error",
     "traceback": [
      "\u001b[1;36m  File \u001b[1;32m\"<tokenize>\"\u001b[1;36m, line \u001b[1;32m26\u001b[0m\n\u001b[1;33m    2. Modülümüz ve deneme Python dosyamız aynı dizinde olması gerektiği için 2 tane Python dosyasını da\u001b[0m\n\u001b[1;37m    ^\u001b[0m\n\u001b[1;31mIndentationError\u001b[0m\u001b[1;31m:\u001b[0m unindent does not match any outer indentation level\n"
     ]
    }
   ],
   "source": [
    "import math # Modülü içeri aktarıyoruz. Artık bu modülün tüm fonks kullan\n",
    "\n",
    "print(dir(math))\n",
    "\n",
    "print(help(math)) # Fonksiyonların görevlerini görebilmek için help fonksiyonunu kullanabiliriz.\n",
    "\n",
    "print(help(math.factorial))\n",
    "\n",
    "import math as matematik\n",
    "print(matematik.factorial(6)) # Modülü artık matematik ismiyle kullanabiliriz.\n",
    "print(matematik.factorial(0))\n",
    "from math import * # Yıldızın anlamı math modülünün içindeki bütün fo\n",
    "print(factorial(5))\n",
    " Python\n",
    "from math import factorial,floor # Sadece 2 tanesini dahil ettik.\n",
    "\n",
    "print(factorial(5))\n",
    "print(floor(3.5))\n",
    "\n",
    "from math import factorial,floor # Sadece 2 tanesini dahil ettik.\n",
    " \n",
    "print(factorial(5))\n",
    "print(floor(3.5))\n",
    "\n",
    "      1. Herhangi bir tane klasör oluşturuyoruz.\n",
    "     2. Modülümüz ve deneme Python dosyamız aynı dizinde olması gerektiği için 2 tane Python dosyasını da\n",
    "        bu klasör altında oluşturuyoruz.\n",
    "    3. modul1.py ve deneme.py dosyası oluşturuyoruz.\n",
    "     4. modul1.py dosyasının içine istediğimiz kadar fonksiyonu yazıyoruz.\n",
    "    5. Son olarak da deneme.py dosyasının içinde bu modul1.py modülünü kullanıyoruz.\n",
    "    6. libe modül ekleyebilirsin\n",
    "                \n",
    "Peki yazdığımız bir modülü her yerden kullanmak için ne yapacağız ? \n",
    "Bunun için yazdığımız modul1.py dosyasının Python35/Lib klasörünün altına atmamız gerekiyor.\n",
    "Böylelikle bu modülü de math modülü gibi her dosyada kullanabiliriz.\n",
    "def factorial(sayı):\n",
    "    print(\"Kendi Factorial fonksiyonum.\")\n",
    "    faktoriyel = 1\n",
    "    if (sayı == 0 or sayı == 1):\n",
    "        return 1\n",
    "    while (sayı >= 1):\n",
    "        faktoriyel *= sayı\n",
    "        sayı -= 1\n",
    "    return faktoriyel\n",
    "print(factorial(5))"
   ]
  },
  {
   "cell_type": "code",
   "execution_count": 9,
   "metadata": {},
   "outputs": [
    {
     "data": {
      "text/plain": [
       "'Renault Megane'"
      ]
     },
     "execution_count": 9,
     "metadata": {},
     "output_type": "execute_result"
    }
   ],
   "source": [
    "#  Yeni bir Araba veri tipi oluşturuyoruz.\n",
    "class Araba():\n",
    "    model =  \"Renault Megane\"\n",
    "    renk = \"Gümüş\"            # Sınıfımızın özellikleri (attributes)\n",
    "    beygir_gücü = 110\n",
    "    silindir = 4\n",
    "    \n",
    "araba1 =  Araba()\n",
    "araba1.model\n",
    "    "
   ]
  },
  {
   "cell_type": "code",
   "execution_count": 20,
   "metadata": {},
   "outputs": [
    {
     "data": {
      "text/plain": [
       "'Peugeot 301'"
      ]
     },
     "execution_count": 20,
     "metadata": {},
     "output_type": "execute_result"
    }
   ],
   "source": [
    "class Araba():\n",
    "    \n",
    "    def __init__(self,model,renk,beygir_gücü,silindir): # Parametrelerimizin değerlerini objelerimizi oluştururken göndereceğiz.\n",
    "        self.model =  model # self.özellik_ismi = parametre değeri şeklinde objemizin model özelliğine değeri atıyoruz.\n",
    "        self.renk = renk # self.özellik_ismi = parametre değeri şeklinde objemizin renk özelliğine değeri atıyoruz.\n",
    "        self.beygir_gücü = beygir_gücü # self.özellik_ismi = parametre değeri şeklinde objemizin beygir_gücü özelliğine değeri atıyoruz.\n",
    "        self.silindir = silindir # self.özellik_ismi = parametre değeri şeklinde objemizin silndir özelliğine değeri atıyoruz.\n",
    "# araba1 objesini oluşturalım.\n",
    "# Artık değerlerimizi göndererek objelerimizin özelliklerini istediğimiz değerle başlatabiliriz.\n",
    "araba3 = Araba(\"Peugeot 301\",\"Beyaz\",90,4)\n",
    "# araba2 objesini oluşturalım.\n",
    "araba4 = Araba(\"Renault Megane\",\"Gümüş\",110,4)\n",
    "araba3.model\n",
    "\n",
    "\n"
   ]
  },
  {
   "cell_type": "code",
   "execution_count": 21,
   "metadata": {},
   "outputs": [
    {
     "data": {
      "text/plain": [
       "'Renault Megane'"
      ]
     },
     "execution_count": 21,
     "metadata": {},
     "output_type": "execute_result"
    }
   ],
   "source": [
    "araba4.model"
   ]
  },
  {
   "cell_type": "code",
   "execution_count": 22,
   "metadata": {},
   "outputs": [],
   "source": [
    "class Araba():\n",
    "    \n",
    "    def __init__(self , model = \"Bilgi Yok\",renk = \"Bilgi Yok\",beygir_gücü = 75 ,silindir = 4): \n",
    "        self.model =  model \n",
    "        self.renk = renk \n",
    "        self.beygir_gücü = beygir_gücü \n",
    "        self.silindir = silindir"
   ]
  },
  {
   "cell_type": "code",
   "execution_count": 23,
   "metadata": {},
   "outputs": [],
   "source": [
    "araba1 = Araba(beygir_gücü = 85, renk = \"Siyah\")"
   ]
  },
  {
   "cell_type": "code",
   "execution_count": 24,
   "metadata": {},
   "outputs": [
    {
     "data": {
      "text/plain": [
       "'Siyah'"
      ]
     },
     "execution_count": 24,
     "metadata": {},
     "output_type": "execute_result"
    }
   ],
   "source": [
    "araba1.renk"
   ]
  },
  {
   "cell_type": "code",
   "execution_count": 25,
   "metadata": {},
   "outputs": [
    {
     "data": {
      "text/plain": [
       "'Bilgi Yok'"
      ]
     },
     "execution_count": 25,
     "metadata": {},
     "output_type": "execute_result"
    }
   ],
   "source": [
    "araba1.model"
   ]
  },
  {
   "cell_type": "code",
   "execution_count": 29,
   "metadata": {},
   "outputs": [
    {
     "name": "stdout",
     "output_type": "stream",
     "text": [
      "\n",
      "        Çalışan Bilgisi:\n",
      "        \n",
      "        İsim :  Mustafa Murat\n",
      "        \n",
      "        Soyisim : Coşkun\n",
      "        \n",
      "        Şirket Numarası: 12345\n",
      "        \n",
      "        Maaş :  3000\n",
      "        \n",
      "        Diller: ['Python', 'C', 'Java']\n",
      "        \n"
     ]
    }
   ],
   "source": [
    "class Yazılımcı():\n",
    "    \n",
    "    def __init__(self,isim,soyisim,numara,maaş,diller):\n",
    "        self.isim = isim\n",
    "        self.soyisim = soyisim\n",
    "        self.numara = numara    # Yazılımcı objelerinin özellikleri \n",
    "        self.maaş = maaş\n",
    "        self.diller = diller\n",
    "    def bilgilerigöster(self):\n",
    "        print(\"\"\"\n",
    "        Çalışan Bilgisi:\n",
    "        \n",
    "        İsim :  {}\n",
    "        \n",
    "        Soyisim : {}\n",
    "        \n",
    "        Şirket Numarası: {}\n",
    "        \n",
    "        Maaş :  {}\n",
    "        \n",
    "        Diller: {}\n",
    "        \"\"\".format(self.isim,self.soyisim,self.numara,self.maaş,self.diller))\n",
    "    def dil_ekle(self,yeni_dil):\n",
    "        print(\"Dil ekleniyor.\")\n",
    "        self.diller.append(yeni_dil)\n",
    "    def maas_yukselt(self,zam_miktarı):\n",
    "        print(\"Maaş yükseliyor...\")\n",
    "        \n",
    "        self.maaş += 250\n",
    " \n",
    "yazılımcı1 =  Yazılımcı(\"Mustafa Murat\",\"Coşkun\",12345,3000,[\"Python\",\"C\",\"Java\"])\n",
    "yazılımcı1.bilgilerigöster()"
   ]
  },
  {
   "cell_type": "code",
   "execution_count": 34,
   "metadata": {},
   "outputs": [
    {
     "name": "stdout",
     "output_type": "stream",
     "text": [
      "Maaş yükseliyor...\n",
      "\n",
      "        Çalışan Bilgisi:\n",
      "        \n",
      "        İsim :  Mustafa Murat\n",
      "        \n",
      "        Soyisim : Coşkun\n",
      "        \n",
      "        Şirket Numarası: 12345\n",
      "        \n",
      "        Maaş :  3500\n",
      "        \n",
      "        Diller: ['Python', 'C', 'Java', 'Javascript']\n",
      "        \n"
     ]
    }
   ],
   "source": [
    "yazılımcı1.maas_yukselt(500)\n",
    "yazılımcı1.bilgilerigöster()"
   ]
  },
  {
   "cell_type": "code",
   "execution_count": 32,
   "metadata": {},
   "outputs": [
    {
     "name": "stdout",
     "output_type": "stream",
     "text": [
      "Dil ekleniyor.\n",
      "\n",
      "        Çalışan Bilgisi:\n",
      "        \n",
      "        İsim :  Mustafa Murat\n",
      "        \n",
      "        Soyisim : Coşkun\n",
      "        \n",
      "        Şirket Numarası: 12345\n",
      "        \n",
      "        Maaş :  3250\n",
      "        \n",
      "        Diller: ['Python', 'C', 'Java', 'Javascript']\n",
      "        \n"
     ]
    }
   ],
   "source": [
    "yazılımcı1.dil_ekle(\"Javascript\")\n",
    "yazılımcı1.bilgilerigöster()"
   ]
  },
  {
   "cell_type": "code",
   "execution_count": 53,
   "metadata": {},
   "outputs": [
    {
     "name": "stdout",
     "output_type": "stream",
     "text": [
      "Çalışan sınıfının init fonksiyonu\n",
      "Çalışan sınıfının bilgileri.....\n",
      "İsim : Mehmet Baltacı \n",
      "Maaş: 3000 \n",
      "Departman: İnsan Kaynakları\n",
      "\n",
      "Departman değişiyor....\n",
      "Çalışan sınıfının bilgileri.....\n",
      "İsim : Mehmet Baltacı \n",
      "Maaş: 3000 \n",
      "Departman: Halkla İlişkiler\n",
      "\n",
      "Çalışan sınıfının init fonksiyonu\n",
      "Maaşa zam yapılıyor....\n",
      "Çalışan sınıfının bilgileri.....\n",
      "İsim : Mustafa Murat Coşkun \n",
      "Maaş: 126120 \n",
      "Departman: Bilişim\n",
      "\n"
     ]
    }
   ],
   "source": [
    "class Çalışan():\n",
    "    def __init__(self,isim,maaş,departman):\n",
    "        print(\"Çalışan sınıfının init fonksiyonu\")\n",
    "        self.isim = isim\n",
    "        self.maaş = maaş\n",
    "        self.departman = departman\n",
    "    def bilgilerigoster(self):\n",
    "        \n",
    "        print(\"Çalışan sınıfının bilgileri.....\")\n",
    "        \n",
    "        print(\"İsim : {} \\nMaaş: {} \\nDepartman: {}\\n\".format(self.isim,self.maaş,self.departman))\n",
    "    def departman_degistir(self,yeni_departman):\n",
    "        print(\"Departman değişiyor....\")\n",
    "        self.departman = yeni_departman\n",
    "class Yönetici(Çalışan): # Çalışan sınıfından miras alıyoruz.\n",
    "    pass \n",
    "yönetici1 = Yönetici(\"Mehmet Baltacı\",3000,\"İnsan Kaynakları\")  #1\n",
    "yönetici1.bilgilerigoster() #2\n",
    "yönetici1.departman_degistir(\"Halkla İlişkiler\")#3\n",
    "yönetici1.bilgilerigoster()#4\n",
    "\n",
    "class Yönetici(Çalışan):      #yönetici mirasından çalışana fonk ekledik\n",
    "    def zam_yap(self,zam_miktarı):\n",
    "        print(\"Maaşa zam yapılıyor....\")\n",
    "        self.maaş += zam_miktarı \n",
    "yönetici2 = Yönetici(\"Mustafa Murat Coşkun\",3000,\"Bilişim\") # yönetici objesi bunu yapma sebebi maaş kaç onu bilmek için\n",
    "yönetici2.zam_yap(123120)\n",
    "yönetici2.bilgilerigoster()"
   ]
  },
  {
   "cell_type": "code",
   "execution_count": 55,
   "metadata": {
    "scrolled": true
   },
   "outputs": [
    {
     "name": "stdout",
     "output_type": "stream",
     "text": [
      "Yönetici sınıfının init fonksiyonu\n",
      "Yönetici sınıfının bilgileri.....\n",
      "İsim : Mustafa Murat Coşkun \n",
      "Maaş: 3000 \n",
      "Departman: Bilişim\n",
      "Sorumlu kişi sayısı: 10\n",
      "Yönetici sınıfının init fonksiyonu\n",
      "Yönetici sınıfının bilgileri.....\n",
      "İsim : Serhat Say \n",
      "Maaş: 2500 \n",
      "Departman: Pazarlama\n",
      "Sorumlu kişi sayısı: 5\n"
     ]
    }
   ],
   "source": [
    "class Çalışan():\n",
    "    def __init__(self,isim,maaş,departman):\n",
    "        print(\"Çalışan sınıfının init fonksiyonu\")\n",
    "        self.isim = isim\n",
    "        self.maaş = maaş\n",
    "        self.departman = departman\n",
    "    def bilgilerigoster(self):\n",
    "        \n",
    "        print(\"Çalışan sınıfının bilgileri.....\")\n",
    "        \n",
    "        print(\"İsim : {} \\nMaaş: {} \\nDepartman: {}\\n\".format(self.isim,self.maaş,self.departman))\n",
    "    def departman_degistir(self,yeni_departman):\n",
    "        print(\"Departman değişiyor....\")\n",
    "        self.departman = yeni_departman\n",
    " \n",
    "class Yönetici(Çalışan):\n",
    "    \n",
    "    def __init__(self,isim,maaş,departman,kişi_sayısı): # Sorumlu olduğu kişi sayısı\n",
    "        print(\"Yönetici sınıfının init fonksiyonu\")\n",
    "        self.isim = isim\n",
    "        self.maaş = maaş\n",
    "        self.departman = departman\n",
    "        self.kişi_sayısı = kişi_sayısı # Yeni eklenen özellik\n",
    "    def bilgilerigoster(self):\n",
    "        \n",
    "        print(\"Yönetici sınıfının bilgileri.....\")\n",
    "        \n",
    "        print(\"İsim : {} \\nMaaş: {} \\nDepartman: {}\\nSorumlu kişi sayısı: {}\".format(self.isim,self.maaş,self.departman,self.kişi_sayısı))\n",
    "    def zam_yap(self,zam_miktarı):\n",
    "        print(\"Maaşa zam yapılıyor....\")\n",
    "        self.maaş += zam_miktarı\n",
    "\n",
    "\n",
    "a = Yönetici(\"Mustafa Murat Coşkun\",3000,\"Bilişim\",10) # Yönetici sınıfının init fonksiyonu. Override edildi.\n",
    "a.bilgilerigoster()\n",
    "b =  Yönetici(\"Serhat Say\",2500,\"Pazarlama\",5)\n",
    "b.bilgilerigoster() \n"
   ]
  },
  {
   "cell_type": "code",
   "execution_count": 59,
   "metadata": {},
   "outputs": [
    {
     "name": "stdout",
     "output_type": "stream",
     "text": [
      "Çalışan sınıfının init fonksiyonu\n",
      "Yönetici sınıfının init fonksiyonu\n",
      "Yönetici sınıfının bilgileri.....\n",
      "İsim : Oğuz Artıran \n",
      "Maaş: 3000 \n",
      "Departman: İnsan Kaynakları\n",
      "Sorumlu kişi sayısı: 4\n"
     ]
    }
   ],
   "source": [
    "class Çalışan():\n",
    "    def __init__(self,isim,maaş,departman):\n",
    "        print(\"Çalışan sınıfının init fonksiyonu\")\n",
    "        self.isim = isim\n",
    "        self.maaş = maaş\n",
    "        self.departman = departman\n",
    "    def bilgilerigoster(self):\n",
    "        \n",
    "        print(\"Çalışan sınıfının bilgileri.....\")\n",
    "        \n",
    "        print(\"İsim : {} \\nMaaş: {} \\nDepartman: {}\\n\".format(self.isim,self.maaş,self.departman))\n",
    "    def departman_degistir(self,yeni_departman):\n",
    "        print(\"Departman değişiyor....\")\n",
    "        self.departman = yeni_departman\n",
    " \n",
    "class Yönetici(Çalışan):\n",
    "    \n",
    "    def __init__(self,isim,maaş,departman,kişi_sayısı): # Sorumlu olduğu kişi sayısı\n",
    "        super().__init__(isim,maaş,departman) # ********BURASI FARKLI 3 tane özelliği Çalışan fonksiyonunun init fonksiyonuyla hallediyoruz.*******\n",
    "        \n",
    "        print(\"Yönetici sınıfının init fonksiyonu\")\n",
    "        \n",
    "        self.kişi_sayısı = kişi_sayısı # Ekstra özelliği de kendimiz yazıyoruz.\n",
    "    def bilgilerigoster(self):\n",
    "        \n",
    "        print(\"Yönetici sınıfının bilgileri.....\")\n",
    "        \n",
    "        print(\"İsim : {} \\nMaaş: {} \\nDepartman: {}\\nSorumlu kişi sayısı: {}\".format(self.isim,self.maaş,self.departman,self.kişi_sayısı))\n",
    "    def zam_yap(self,zam_miktarı):\n",
    "        print(\"Maaşa zam yapılıyor....\")\n",
    "        self.maaş += zam_miktarı\n",
    "yöneici = Yönetici(\"Oğuz Artıran\",3000,\"İnsan Kaynakları\",4)\n",
    "yöneici.bilgilerigoster()   #SUPER KULLANARAK YUKARDAKİNİ ALDIK"
   ]
  },
  {
   "cell_type": "code",
   "execution_count": 60,
   "metadata": {},
   "outputs": [
    {
     "name": "stdout",
     "output_type": "stream",
     "text": [
      "Kitap Objesi oluşuyor....\n",
      "561\n",
      "Kitap objesi siliniyor.......\n"
     ]
    },
    {
     "ename": "NameError",
     "evalue": "name 'kitap1' is not defined",
     "output_type": "error",
     "traceback": [
      "\u001b[1;31m---------------------------------------------------------------------------\u001b[0m",
      "\u001b[1;31mNameError\u001b[0m                                 Traceback (most recent call last)",
      "\u001b[1;32m<ipython-input-60-1730c95fe61a>\u001b[0m in \u001b[0;36m<module>\u001b[1;34m\u001b[0m\n\u001b[0;32m     17\u001b[0m \u001b[0mprint\u001b[0m\u001b[1;33m(\u001b[0m\u001b[0mlen\u001b[0m\u001b[1;33m(\u001b[0m\u001b[0mkitap1\u001b[0m\u001b[1;33m)\u001b[0m\u001b[1;33m)\u001b[0m\u001b[1;33m\u001b[0m\u001b[1;33m\u001b[0m\u001b[0m\n\u001b[0;32m     18\u001b[0m \u001b[1;32mdel\u001b[0m \u001b[0mkitap1\u001b[0m\u001b[1;33m\u001b[0m\u001b[1;33m\u001b[0m\u001b[0m\n\u001b[1;32m---> 19\u001b[1;33m \u001b[0mprint\u001b[0m\u001b[1;33m(\u001b[0m\u001b[0mkitap1\u001b[0m\u001b[1;33m)\u001b[0m\u001b[1;33m\u001b[0m\u001b[1;33m\u001b[0m\u001b[0m\n\u001b[0m",
      "\u001b[1;31mNameError\u001b[0m: name 'kitap1' is not defined"
     ]
    }
   ],
   "source": [
    "class Kitap():\n",
    "    def __init__(self,isim,yazar,sayfa_sayısı,tür): \n",
    "        print(\"Kitap Objesi oluşuyor....\")\n",
    "        self.isim = isim\n",
    "        self.yazar = yazar\n",
    "        self.sayfa_sayısı = sayfa_sayısı\n",
    "        self.tür = tür\n",
    "    def __str__(self):\n",
    "        # Return kullanmamız gerekli\n",
    "        return \"İsim: {}\\nYazar: {}\\nSayfa Sayısı: {}\\nTür: {}\".format(self.isim,self.yazar,self.sayfa_sayısı,self.tür)\n",
    "    def __len__(self):\n",
    "        return self.sayfa_sayısı\n",
    "    def __del__(self):\n",
    "        print(\"Kitap objesi siliniyor.......\")\n",
    " \n",
    "kitap1 = Kitap(\"İstanbul Hatırası\",\"Ahmet Ümit\",561,\"Polisiye\")\n",
    "print(len(kitap1))\n",
    "del kitap1 \n",
    "print(kitap1)#error verdi çünkü kitap1 i sildik bak kitap objesi siliniyor yazıyor zaten\n"
   ]
  },
  {
   "cell_type": "code",
   "execution_count": 1,
   "metadata": {},
   "outputs": [
    {
     "name": "stdout",
     "output_type": "stream",
     "text": [
      "Hata oluştu\n",
      "Bloklar sona erdi\n"
     ]
    }
   ],
   "source": [
    "try:\n",
    "    a =  int(\"324234dsadsad\") # Burası ValueError hatası veriyor.\n",
    "    print(\"Program burada\")\n",
    "except: # Hatayı belirtmezsek bütün hatalar bu kısma giriyor.\n",
    "    print(\"Hata oluştu\")  # Burası çalışır.\n",
    "    \n",
    "print(\"Bloklar sona erdi\")"
   ]
  },
  {
   "cell_type": "code",
   "execution_count": 2,
   "metadata": {},
   "outputs": [
    {
     "name": "stdout",
     "output_type": "stream",
     "text": [
      "Program burada\n",
      "Bloklar sona erdi\n"
     ]
    }
   ],
   "source": [
    "try:\n",
    "    \n",
    "    a =  int(\"324234\") # Burası normal çalışıyor\n",
    "    print(\"Program burada\")\n",
    "except ValueError: # Hatayı belirtirsek ValueError hatası bu kısma giriyor.\n",
    "    print(\"Hata oluştu\") # Hata olmadığı için çalışmadı.\n",
    "    \n",
    "print(\"Bloklar sona erdi\")\n",
    " "
   ]
  },
  {
   "cell_type": "code",
   "execution_count": 3,
   "metadata": {},
   "outputs": [
    {
     "name": "stdout",
     "output_type": "stream",
     "text": [
      "Sayı1:12\n",
      "Sayı2:12sdasdasd\n",
      "Lütfen inputları doğru girin.\n"
     ]
    }
   ],
   "source": [
    "try:\n",
    "    a = int(input(\"Sayı1:\"))\n",
    "    b = int(input(\"Sayı2:\")) # Hata burada oluşuyor. ValueError'a bloğuna giriyoruz. \n",
    "    print(a / b)\n",
    "except ValueError:\n",
    "    print(\"Lütfen inputları doğru girin.\")\n",
    "except ZeroDivisionError:\n",
    "    print(\"Bir sayı 0'a bölünemez.\")\n",
    " "
   ]
  },
  {
   "cell_type": "code",
   "execution_count": 9,
   "metadata": {},
   "outputs": [
    {
     "name": "stdout",
     "output_type": "stream",
     "text": [
      "Sayı1:12\n",
      "Sayı2:0\n",
      "Bir sayı 0'a bölünemez.\n"
     ]
    }
   ],
   "source": [
    "try:\n",
    "    a = int(input(\"Sayı1:\"))\n",
    "    b = int(input(\"Sayı2:\"))\n",
    "    print(a / b) # Hata burada oluşuyor. ZeroDivisionError'a bloğuna giriyoruz.\n",
    "except ValueError:\n",
    "    print(\"Lütfen inputları doğru girin.\")\n",
    "except ZeroDivisionError:\n",
    "    print(\"Bir sayı 0'a bölünemez.\")"
   ]
  },
  {
   "cell_type": "code",
   "execution_count": 10,
   "metadata": {},
   "outputs": [
    {
     "name": "stdout",
     "output_type": "stream",
     "text": [
      "Sayı1:12\n",
      "Sayı2:34\n",
      "0.35294117647058826\n"
     ]
    }
   ],
   "source": [
    "try:\n",
    "    a = int(input(\"Sayı1:\"))\n",
    "    b = int(input(\"Sayı2:\")) # Hata verecek kod bulunmuyor.\n",
    "    print(a / b) \n",
    "except ValueError:\n",
    "    print(\"Lütfen inputları doğru girin.\")\n",
    "except ZeroDivisionError:\n",
    "    print(\"Bir sayı 0'a bölünemez.\")"
   ]
  },
  {
   "cell_type": "code",
   "execution_count": 11,
   "metadata": {},
   "outputs": [
    {
     "name": "stdout",
     "output_type": "stream",
     "text": [
      "Sayı1:12\n",
      "Sayı2:12312sadasd\n",
      "ZeroDivision veya ValueError hatası\n"
     ]
    }
   ],
   "source": [
    "try:\n",
    "    a = int(input(\"Sayı1:\"))\n",
    "    b = int(input(\"Sayı2:\"))\n",
    "    print(a / b) \n",
    "except (ValueError,ZeroDivisionError):\n",
    "    print(\"ZeroDivision veya ValueError hatası\"),"
   ]
  },
  {
   "cell_type": "code",
   "execution_count": 12,
   "metadata": {},
   "outputs": [
    {
     "name": "stdout",
     "output_type": "stream",
     "text": [
      "Sayı1:12\n",
      "Sayı2:0\n",
      "ZeroDivision veya ValueError hatası\n"
     ]
    }
   ],
   "source": [
    "try:\n",
    "    a = int(input(\"Sayı1:\"))\n",
    "    b = int(input(\"Sayı2:\")) \n",
    "    print(a / b) \n",
    "except (ValueError,ZeroDivisionError):\n",
    "    print(\"ZeroDivision veya ValueError hatası\")"
   ]
  },
  {
   "cell_type": "code",
   "execution_count": 1,
   "metadata": {},
   "outputs": [
    {
     "ename": "FileNotFoundError",
     "evalue": "[Errno 2] No such file or directory: 'C:/Users/user/Desktop/bilgiler.txt'",
     "output_type": "error",
     "traceback": [
      "\u001b[1;31m---------------------------------------------------------------------------\u001b[0m",
      "\u001b[1;31mFileNotFoundError\u001b[0m                         Traceback (most recent call last)",
      "\u001b[1;32m<ipython-input-1-318a4e3f21aa>\u001b[0m in \u001b[0;36m<module>\u001b[1;34m\u001b[0m\n\u001b[0;32m      2\u001b[0m \u001b[0mfile\u001b[0m \u001b[1;33m=\u001b[0m \u001b[0mopen\u001b[0m\u001b[1;33m(\u001b[0m\u001b[1;34m\"bilgiler.txt\"\u001b[0m\u001b[1;33m,\u001b[0m\u001b[1;34m\"w\"\u001b[0m\u001b[1;33m)\u001b[0m \u001b[1;31m# Dosya üzerinde işlem yapacak dosya imlecini file isimli değişkene atıyoruz\u001b[0m\u001b[1;33m\u001b[0m\u001b[1;33m\u001b[0m\u001b[0m\n\u001b[0;32m      3\u001b[0m \u001b[0mfile\u001b[0m\u001b[1;33m.\u001b[0m\u001b[0mclose\u001b[0m\u001b[1;33m(\u001b[0m\u001b[1;33m)\u001b[0m  \u001b[1;31m# Dosyayı kapatmak\u001b[0m\u001b[1;33m\u001b[0m\u001b[1;33m\u001b[0m\u001b[0m\n\u001b[1;32m----> 4\u001b[1;33m \u001b[0mfile\u001b[0m \u001b[1;33m=\u001b[0m \u001b[0mopen\u001b[0m\u001b[1;33m(\u001b[0m\u001b[1;34m\"C:/Users/user/Desktop/bilgiler.txt\"\u001b[0m\u001b[1;33m,\u001b[0m\u001b[1;34m\"w\"\u001b[0m\u001b[1;33m)\u001b[0m \u001b[1;31m# çalıştırdığımızda masaüstünde bilgiler.txt oluşacaktır.\u001b[0m\u001b[1;33m\u001b[0m\u001b[1;33m\u001b[0m\u001b[0m\n\u001b[0m\u001b[0;32m      5\u001b[0m \u001b[0mfile\u001b[0m\u001b[1;33m.\u001b[0m\u001b[0mclose\u001b[0m\u001b[1;33m(\u001b[0m\u001b[1;33m)\u001b[0m \u001b[1;31m# Unutmayalım.\u001b[0m\u001b[1;33m\u001b[0m\u001b[1;33m\u001b[0m\u001b[0m\n",
      "\u001b[1;31mFileNotFoundError\u001b[0m: [Errno 2] No such file or directory: 'C:/Users/user/Desktop/bilgiler.txt'"
     ]
    }
   ],
   "source": [
    "open(\"bilgiler.txt\",\"w\") # Dosyayı bulunduğumuz dizinde açıyor.\n",
    "file = open(\"bilgiler.txt\",\"w\") # Dosya üzerinde işlem yapacak dosya imlecini file isimli değişkene atıyoruz\n",
    "file.close()  # Dosyayı kapatmak\n",
    "file = open(\"C:/Users/user/Desktop/bilgiler.txt\",\"w\") # çalıştırdığımızda masaüstünde bilgiler.txt oluşacaktır.\n",
    "file.close() # Unutmayalım."
   ]
  },
  {
   "cell_type": "code",
   "execution_count": null,
   "metadata": {},
   "outputs": [],
   "source": []
  },
  {
   "cell_type": "code",
   "execution_count": null,
   "metadata": {},
   "outputs": [],
   "source": [
    "file = open(\"bilgiler.txt\",\"w\",encoding=\"utf-8\") # Türkçe karakter kullanacaksak encoding=\"utf-8\" parametresini veriyoruz.\n",
    "file.write(\"Mustafa Murat Coşkun\") # write fonksiyonu ile dosyamıza yazıyoruz. 20 bytelık yani 20 karakter yazıldı. \n",
    "file.close()"
   ]
  },
  {
   "cell_type": "code",
   "execution_count": null,
   "metadata": {},
   "outputs": [],
   "source": [
    "file = open(\"bilgiler.txt\",\"a\",encoding=\"utf-8\")\n",
    "file.write(\"Mustafa Murat Coşkun\") \n",
    "file.close()"
   ]
  },
  {
   "cell_type": "code",
   "execution_count": null,
   "metadata": {},
   "outputs": [],
   "source": [
    "file = open(\"bilgiler.txt\",\"a\",encoding=\"utf-8\")\n",
    "file.write(\"Mustafa Murat Coşkun\\n\")\n",
    "file.write(\"Mehmet Gençol\\n\")\n",
    "file.close()"
   ]
  },
  {
   "cell_type": "code",
   "execution_count": null,
   "metadata": {},
   "outputs": [],
   "source": [
    "\"\"\"\n",
    "Diyelim ki dosyamızın içeriği bu şekilde.\n",
    " \n",
    "Mustafa Murat Coşkun\n",
    "Mehmet Gençol\n",
    "Oğuz Artıran\n",
    "Serhat Say\n",
    "Mert Erarslan\n",
    "\"\"\"\n",
    " \n",
    "file = open(\"bilgiler.txt\",\"r\",encoding= \"utf-8\") # Dosyayı okuma kipiyle açıyoruz. Türkçe karaktere dikkat.\n",
    " \n",
    "for i in file: # Tıpkı listeler gibi dosyanın her bir satırı üzerinde geziniyoruz.\n",
    "    print(i) # Her bir satırı ekrana basıyoruz.\n",
    "file.close()\n",
    " \n",
    "\"\"\"\n",
    "Çıktı\n",
    " \n",
    "Mustafa Murat Coşkun\n",
    " \n",
    "Mehmet Gençol\n",
    " \n",
    "Oğuz Artıran\n",
    " \n",
    "Serhat Say\n",
    " \n",
    "Mert Erarslan"
   ]
  },
  {
   "cell_type": "code",
   "execution_count": null,
   "metadata": {},
   "outputs": [],
   "source": [
    "ile = open(\"bilgiler.txt\",\"r\",encoding= \"utf-8\") # Dosyayı okuma kipiyle açıyoruz. Türkçe karaktere dikkat.\n",
    " \n",
    "for i in file: # Tıpkı listeler gibi dosyanın her bir satırı üzerinde geziniyoruz.\n",
    "    print(i,end = \"\") # Her bir satırı ekrana basıyoruz. end parametresi \\n yerine boşluk alacak.\n",
    "file.close()\n",
    " \n",
    "\"\"\"\n",
    "Çıktı\n",
    " \n",
    "Mustafa Murat Coşkun\n",
    "Mehmet Gençol\n",
    "Oğuz Artıran\n",
    "Serhat Say\n",
    "Mert Erarslan"
   ]
  },
  {
   "cell_type": "code",
   "execution_count": null,
   "metadata": {},
   "outputs": [],
   "source": [
    "file = open(\"bilgiler.txt\",\"r\",encoding=\"utf-8\")\n",
    " \n",
    "icerik = file.read() \n",
    " \n",
    "print(\"Dosya İçeriği:\\n\",icerik,sep =\"\")\n",
    " \n",
    "file.close()\n",
    " \n",
    "\"\"\"\n",
    "Çıktı\n",
    " \n",
    "Dosya İçeriği:\n",
    "Mustafa Murat Coşkun\n",
    "Mehmet Gençol\n",
    "Oğuz Artıran\n",
    "Serhat Say\n",
    "Mert Erarslan\n",
    " "
   ]
  },
  {
   "cell_type": "code",
   "execution_count": null,
   "metadata": {},
   "outputs": [],
   "source": [
    "file = open(\"bilgiler.txt\",\"r\",encoding=\"utf-8\")\n",
    " \n",
    "icerik = file.read() \n",
    " \n",
    "print(\"1. Okuma : Dosya İçeriği:\\n\",icerik,sep =\"\")\n",
    " \n",
    "icerik2 = file.read()\n",
    " \n",
    " \n",
    "print(\"2. Okuma : Dosya İçeriği:\\n\",icerik2,sep =\"\")   \n",
    " \n",
    "file.close()  #read() fonksiyonuyla bir dosyayı \n",
    "               #okuduğumuzda dosya imlecimiz dosyanın en sonuna gider \n",
    "               #ve read() fonksiyonu 2. okuma da artık boş string döner.\n",
    " \n",
    "\"\"\"\n",
    "Çıktı\n",
    " \n",
    "1. Okuma : Dosya İçeriği:\n",
    "Mustafa Murat Coşkun\n",
    "Mehmet Gençol\n",
    "Oğuz Artıran\n",
    "Serhat Say\n",
    "Mert Erarslan\n",
    " \n",
    "2. Okuma : Dosya İçeriği:"
   ]
  },
  {
   "cell_type": "code",
   "execution_count": null,
   "metadata": {},
   "outputs": [],
   "source": [
    "file = open(\"bilgiler.txt\",\"r\",encoding=\"utf-8\")\n",
    "print(file.readline())\n",
    "print(file.readline())\n",
    "print(file.readline())\n",
    "print(file.readline())\n",
    "print(file.readline()) # Okuyacak herhangi bir şey kalmayınca readline fonksiyonu boş string döner.\n",
    " \n",
    "file.close()\n",
    " \n",
    "\"\"\"\n",
    "Çıktı\n",
    " \n",
    "Mustafa Murat Coşkun\n",
    "Mehmet Gençol\n",
    "Oğuz Artıran\n",
    "Serhat Say\n",
    "Mert Erarslan"
   ]
  },
  {
   "cell_type": "code",
   "execution_count": null,
   "metadata": {},
   "outputs": [],
   "source": [
    "file = open(\"bilgiler.txt\",\"r\",encoding=\"utf-8\")\n",
    " \n",
    "file.readlines()\n",
    " \n",
    "file.close()\n",
    " \n",
    "\"\"\"\n",
    "Çıktı\n",
    " \n",
    "['Mustafa Murat Coşkun\\n',\n",
    " 'Mehmet Gençol\\n',\n",
    " 'Oğuz Artıran\\n',\n",
    " 'Serhat Say\\n',\n",
    " 'Mert Erarslan\\n']\n",
    "\"\"\""
   ]
  },
  {
   "cell_type": "code",
   "execution_count": null,
   "metadata": {},
   "outputs": [],
   "source": [
    "with open(\"bilgiler.txt\",\"r\",encoding = \"utf-8\") as file:\n",
    "    for i in file:      #böyle olursa dosya oto kapanır.\n",
    "        print(i)\n",
    " "
   ]
  },
  {
   "cell_type": "code",
   "execution_count": null,
   "metadata": {},
   "outputs": [],
   "source": [
    "with open(\"bilgiler.txt\",\"r\",encoding = \"utf-8\") as file:\n",
    "    file.seek(20) # 20.byte götürdük.\n",
    "    print(file.tell())   "
   ]
  },
  {
   "cell_type": "code",
   "execution_count": null,
   "metadata": {},
   "outputs": [],
   "source": [
    "with open(\"bilgiler.txt\",\"r\",encoding = \"utf-8\") as file:\n",
    "    file.seek(5) # 5.byte gidiyoruz.\n",
    "    icerik = file.read(10)  # 10 karakteri okuyoruz.\n",
    "    print(icerik)\n",
    "    print(file.tell())"
   ]
  },
  {
   "cell_type": "code",
   "execution_count": null,
   "metadata": {},
   "outputs": [],
   "source": [
    "seek() ve write()\n",
    "Eğer biz bir dosyanın belli bir yerine seek() fonksiyonu ile gidip, write() fonksiyonunu kullanırsak,\n",
    "yazdığımız değerler öncesinde bulunan değerlerin üzerine yazılacaktır.\n",
    "Bunun için hem okuma hem de yazma işlemimizi yapmamızı sağlayan “r+” kipini kullanacağız. \n",
    "İlk önce dosyamızda bilgileri görelim.\n",
    "\n",
    "\n",
    "with open(\"bilgiler.txt\",\"r+\",encoding = \"utf-8\") as file: \n",
    "    file.seek(10) # 10. byte a git ve deneme yazdırdık\n",
    "    file.write(\"Deneme\")\n",
    "with open(\"bilgiler.txt\",\"r+\",encoding = \"utf-8\") as file:\n",
    "    print(file.read())"
   ]
  },
  {
   "cell_type": "code",
   "execution_count": null,
   "metadata": {},
   "outputs": [],
   "source": [
    "Bu işlemlerin en kolayıyla başlayalım. Dosyaların sonunda değişiklik yapmak için,  \n",
    "dosyamızı “a” kipiyle açalım ve sadece dosyanın sonuna write() ile ekleme yapalım.\n",
    "with open(\"bilgiler.txt\",\"a\",encoding = \"utf-8\") as file:\n",
    "    file.write(\"Mert Erarslan\\n\")\n",
    "with open(\"bilgiler.txt\",\"r\",encoding = \"utf-8\") as file:\n",
    "    print(file.read())\n",
    " "
   ]
  },
  {
   "cell_type": "code",
   "execution_count": null,
   "metadata": {},
   "outputs": [],
   "source": [
    "“bilgiler.txt” dosyamızın başına bir tane satır eklemek için ne yapabiliriz ?\n",
    "Bunun için dosyamızı bütünüyle string halinde alıp daha sonra satırımızı string’in başına eklememiz gerekiyor. \n",
    "Daha sonra dosyanın en başına seek() fonksiyonuyla giderek ,direk write() fonksiyonunu kullanabiliriz.\n",
    "\n",
    "with open(\"bilgiler.txt\",\"r+\",encoding = \"utf-8\") as file:\n",
    "    icerik = file.read()\n",
    "    \n",
    "    icerik = \"Semih Aktaş\\n\" + icerik\n",
    "    file.seek(0)\n",
    "    file.write(icerik)\n",
    "with open(\"bilgiler.txt\",\"r+\",encoding = \"utf-8\") as file:\n",
    "    icerik = file.read()\n",
    "    print(icerik)"
   ]
  },
  {
   "cell_type": "code",
   "execution_count": null,
   "metadata": {},
   "outputs": [],
   "source": [
    "Dosyaların ortasına herhangi bir satır eklemek için  \n",
    "ilk olarak her bir satırı liste halinde almamızı sağlayan readlines() fonksiyonunu kullanacağız. \n",
    "Daha sonra bu listenin herhangi bir yerine bir eleman ekleyerek bu listeyi for döngüsü ile dosyaya yazacağız.\n",
    "\n",
    "\n",
    "with open(\"bilgiler.txt\",\"r+\",encoding = \"utf-8\") as file:\n",
    "    liste = file.readlines()\n",
    "    liste.insert(3,\"Mehmet Keper\\n\")\n",
    "    file.seek(0)\n",
    "    for satır in liste:\n",
    "        file.write(satır)\n",
    "with open(\"bilgiler.txt\",\"r+\",encoding = \"utf-8\") as file:\n",
    "    icerik = file.read()\n",
    "    print(icerik)\n",
    " "
   ]
  },
  {
   "cell_type": "code",
   "execution_count": null,
   "metadata": {},
   "outputs": [],
   "source": [
    "Pythonda bir dosyaya listenin içindeki değerleri yazmak için for döngüsü dışında pratik bir fonksiyon bulunuyor.\n",
    "writelines fonksiyonu içine verdiğimiz listeyi dosyaya yazacaktır\n",
    "\n",
    "\n",
    "with open(\"bilgiler.txt\",\"r+\",encoding = \"utf-8\") as file:\n",
    "    liste = file.readlines()\n",
    "    liste.insert(3,\"Ahmet Baltacı\\n\")\n",
    "    file.seek(0)\n",
    "    file.writelines(liste)\n",
    " \n",
    "with open(\"bilgiler.txt\",\"r+\",encoding = \"utf-8\") as file:\n",
    "    icerik = file.read()\n",
    "    print(icerik)\n",
    " "
   ]
  },
  {
   "cell_type": "code",
   "execution_count": 1,
   "metadata": {},
   "outputs": [
    {
     "data": {
      "text/plain": [
       "[2, 4, 6, 8, 10, 12, 14]"
      ]
     },
     "execution_count": 1,
     "metadata": {},
     "output_type": "execute_result"
    }
   ],
   "source": [
    "def double(x):             #map fonksiyonu\n",
    "    return x * 2\n",
    "list(map(double,[1,2,3,4,5,6,7]))"
   ]
  },
  {
   "cell_type": "code",
   "execution_count": 2,
   "metadata": {},
   "outputs": [
    {
     "data": {
      "text/plain": [
       "[1, 4, 9, 16, 25, 36, 49, 64, 81]"
      ]
     },
     "execution_count": 2,
     "metadata": {},
     "output_type": "execute_result"
    }
   ],
   "source": [
    "list(map(lambda x : x ** 2, [1,2,3,4,5,6,7,8,9]))"
   ]
  },
  {
   "cell_type": "code",
   "execution_count": 7,
   "metadata": {},
   "outputs": [
    {
     "data": {
      "text/plain": [
       "[5, 12, 21, 32]"
      ]
     },
     "execution_count": 7,
     "metadata": {},
     "output_type": "execute_result"
    }
   ],
   "source": [
    "liste1 = [1,2,3,4]\n",
    "liste2 = [5,6,7,8]\n",
    "liste3 = [9,10,11,12,13]\n",
    "\n",
    "list(map(lambda x,y : x * y , liste1,liste2))"
   ]
  },
  {
   "cell_type": "code",
   "execution_count": 6,
   "metadata": {},
   "outputs": [
    {
     "data": {
      "text/plain": [
       "[45, 120, 231, 384]"
      ]
     },
     "execution_count": 6,
     "metadata": {},
     "output_type": "execute_result"
    }
   ],
   "source": [
    "list(map(lambda x,y,z : x * y * z , liste1,liste2,liste3)) #13 ü es geçti"
   ]
  },
  {
   "cell_type": "code",
   "execution_count": 8,
   "metadata": {},
   "outputs": [
    {
     "data": {
      "text/plain": [
       "60"
      ]
     },
     "execution_count": 8,
     "metadata": {},
     "output_type": "execute_result"
    }
   ],
   "source": [
    "from functools import reduce  # reduce fonksiyonu son sürümlerde functools modülüne taşındı.\n",
    "reduce(lambda x,y : x + y , [12,18,20,10])"
   ]
  },
  {
   "cell_type": "code",
   "execution_count": 11,
   "metadata": {},
   "outputs": [
    {
     "data": {
      "text/plain": [
       "120"
      ]
     },
     "execution_count": 11,
     "metadata": {},
     "output_type": "execute_result"
    }
   ],
   "source": [
    "# Bakın 5'in faktöriyelini bulduk.\n",
    "reduce(lambda x,y : x * y , [1,2,3,4,5])"
   ]
  },
  {
   "cell_type": "code",
   "execution_count": 12,
   "metadata": {},
   "outputs": [
    {
     "data": {
      "text/plain": [
       "6"
      ]
     },
     "execution_count": 12,
     "metadata": {},
     "output_type": "execute_result"
    }
   ],
   "source": [
    "# max fonksiyonu()\n",
    "max([1,2,3,4,5,6])"
   ]
  },
  {
   "cell_type": "code",
   "execution_count": 13,
   "metadata": {},
   "outputs": [
    {
     "data": {
      "text/plain": [
       "100"
      ]
     },
     "execution_count": 13,
     "metadata": {},
     "output_type": "execute_result"
    }
   ],
   "source": [
    "# reduce ile max fonksiyonu\n",
    "def maksimum(x,y):\n",
    "    if (x > y):\n",
    "        return x\n",
    "    else:\n",
    "        return y\n",
    "\n",
    "reduce(maksimum, [-2,1,100,35,32])"
   ]
  },
  {
   "cell_type": "code",
   "execution_count": 14,
   "metadata": {},
   "outputs": [
    {
     "data": {
      "text/plain": [
       "<filter at 0x162b3339670>"
      ]
     },
     "execution_count": 14,
     "metadata": {},
     "output_type": "execute_result"
    }
   ],
   "source": [
    "filter(lambda x : x % 2 == 0, [1,2,3,4,5,6,7,8,9,10])\n"
   ]
  },
  {
   "cell_type": "code",
   "execution_count": 15,
   "metadata": {},
   "outputs": [
    {
     "data": {
      "text/plain": [
       "[2, 4, 6, 8, 10]"
      ]
     },
     "execution_count": 15,
     "metadata": {},
     "output_type": "execute_result"
    }
   ],
   "source": [
    "list(filter(lambda x : x % 2 == 0, [1,2,3,4,5,6,7,8,9,10])) # Çift olan sayılar"
   ]
  },
  {
   "cell_type": "code",
   "execution_count": 16,
   "metadata": {},
   "outputs": [
    {
     "data": {
      "text/plain": [
       "True"
      ]
     },
     "execution_count": 16,
     "metadata": {},
     "output_type": "execute_result"
    }
   ],
   "source": [
    "def asal_mi(x):\n",
    "    i = 2\n",
    "    if (x == 1):\n",
    "        return False # Asal değil\n",
    "    elif(x == 2):\n",
    "        return True # Asal sayı\n",
    "    else:\n",
    "        while(i < x):\n",
    "            if (x % i == 0):\n",
    "                return False # Asal Değil\n",
    "            i += 1\n",
    "    return True\n",
    "asal_mi(3)"
   ]
  },
  {
   "cell_type": "code",
   "execution_count": 19,
   "metadata": {},
   "outputs": [
    {
     "data": {
      "text/plain": [
       "<filter at 0x162b33398e0>"
      ]
     },
     "execution_count": 19,
     "metadata": {},
     "output_type": "execute_result"
    }
   ],
   "source": [
    "filter(asal_mi,range(1,100))\n"
   ]
  },
  {
   "cell_type": "code",
   "execution_count": 20,
   "metadata": {},
   "outputs": [
    {
     "data": {
      "text/plain": [
       "[2,\n",
       " 3,\n",
       " 5,\n",
       " 7,\n",
       " 11,\n",
       " 13,\n",
       " 17,\n",
       " 19,\n",
       " 23,\n",
       " 29,\n",
       " 31,\n",
       " 37,\n",
       " 41,\n",
       " 43,\n",
       " 47,\n",
       " 53,\n",
       " 59,\n",
       " 61,\n",
       " 67,\n",
       " 71,\n",
       " 73,\n",
       " 79,\n",
       " 83,\n",
       " 89,\n",
       " 97]"
      ]
     },
     "execution_count": 20,
     "metadata": {},
     "output_type": "execute_result"
    }
   ],
   "source": [
    "list(filter(asal_mi,range(1,100))) # 1 den 100' e kadar olan asal sayılar"
   ]
  },
  {
   "cell_type": "code",
   "execution_count": 1,
   "metadata": {},
   "outputs": [
    {
     "data": {
      "text/plain": [
       "[(1, 6), (2, 7), (3, 8), (4, 9), (5, 10)]"
      ]
     },
     "execution_count": 1,
     "metadata": {},
     "output_type": "execute_result"
    }
   ],
   "source": [
    "liste1 = [1,2,3,4,5]          #ZİP........\n",
    "liste2 = [6,7,8,9,10,11]\n",
    "list(zip(liste1,liste2))"
   ]
  },
  {
   "cell_type": "code",
   "execution_count": 2,
   "metadata": {},
   "outputs": [
    {
     "data": {
      "text/plain": [
       "[(1, 5, 'Python'), (2, 6, 'Php'), (3, 7, 'Java'), (4, 8, 'Javascript')]"
      ]
     },
     "execution_count": 2,
     "metadata": {},
     "output_type": "execute_result"
    }
   ],
   "source": [
    "liste1 = [1,2,3,4]\n",
    "liste2 = [5,6,7,8]\n",
    "liste3 = [\"Python\",\"Php\",\"Java\",\"Javascript\",\"C\"]\n",
    "list(zip(liste1,liste2,liste3))"
   ]
  },
  {
   "cell_type": "code",
   "execution_count": 3,
   "metadata": {},
   "outputs": [
    {
     "name": "stdout",
     "output_type": "stream",
     "text": [
      "i: 1 j: Python\n",
      "i: 2 j: Php\n",
      "i: 3 j: Java\n",
      "i: 4 j: Javascript\n"
     ]
    }
   ],
   "source": [
    "## Aynı anda iki liste üzerinde gezinmek\n",
    "liste1 = [1,2,3,4]\n",
    "liste2 = [\"Python\",\"Php\",\"Java\",\"Javascript\"]\n",
    "\n",
    "for i,j in zip(liste1,liste2):\n",
    "    print(\"i:\",i,\"j:\",j)"
   ]
  },
  {
   "cell_type": "code",
   "execution_count": 6,
   "metadata": {},
   "outputs": [
    {
     "data": {
      "text/plain": [
       "[('Elma', 'Sıfır'), ('Armut', 'Bir'), ('Kiraz', 'İki')]"
      ]
     },
     "execution_count": 6,
     "metadata": {},
     "output_type": "execute_result"
    }
   ],
   "source": [
    "# Sözlükleri zipleyelim.\n",
    "sözlük1 = {\"Elma\":1,\"Armut\":2,\"Kiraz\":3}\n",
    "sözlük2 = {\"Sıfır\":0,\"Bir\":1,\"İki\":2}\n",
    "list(zip(sözlük1,sözlük2)) # Anahtarlar eşleşti\n"
   ]
  },
  {
   "cell_type": "code",
   "execution_count": 7,
   "metadata": {},
   "outputs": [
    {
     "data": {
      "text/plain": [
       "[(1, 0), (2, 1), (3, 2)]"
      ]
     },
     "execution_count": 7,
     "metadata": {},
     "output_type": "execute_result"
    }
   ],
   "source": [
    "list(zip(sözlük1.values(),sözlük2.values())) # Değerler eşleşti"
   ]
  },
  {
   "cell_type": "code",
   "execution_count": 8,
   "metadata": {},
   "outputs": [
    {
     "data": {
      "text/plain": [
       "[(0, 'Elma'), (1, 'Armut'), (2, 'Muz'), (3, 'Kiraz')]"
      ]
     },
     "execution_count": 8,
     "metadata": {},
     "output_type": "execute_result"
    }
   ],
   "source": [
    "liste = [\"Elma\",\"Armut\",\"Muz\",\"Kiraz\"]\n",
    "list(enumerate(liste))"
   ]
  },
  {
   "cell_type": "code",
   "execution_count": 9,
   "metadata": {},
   "outputs": [
    {
     "name": "stdout",
     "output_type": "stream",
     "text": [
      "Eleman:  a\n",
      "Eleman:  c\n",
      "Eleman:  e\n",
      "Eleman:  g\n"
     ]
    }
   ],
   "source": [
    "liste = [\"a\",\"b\",\"c\",\"d\",\"e\",\"f\",\"g\"]\n",
    "\n",
    "for index,eleman in enumerate(liste):\n",
    "    if (index % 2 == 0):\n",
    "        print(\"Eleman: \",eleman)"
   ]
  },
  {
   "cell_type": "code",
   "execution_count": 10,
   "metadata": {},
   "outputs": [
    {
     "data": {
      "text/plain": [
       "False"
      ]
     },
     "execution_count": 10,
     "metadata": {},
     "output_type": "execute_result"
    }
   ],
   "source": [
    "#all() fonksiyonu bütün değerler True ise True, en az bir değer False ise False sonuç döndürür.\n",
    "liste = [True,False,True,False,True]\n",
    "all(liste)"
   ]
  },
  {
   "cell_type": "code",
   "execution_count": 11,
   "metadata": {},
   "outputs": [
    {
     "data": {
      "text/plain": [
       "True"
      ]
     },
     "execution_count": 11,
     "metadata": {},
     "output_type": "execute_result"
    }
   ],
   "source": [
    "liste = [1,2,3,4,5]\n",
    "all(liste)"
   ]
  },
  {
   "cell_type": "code",
   "execution_count": 12,
   "metadata": {},
   "outputs": [
    {
     "data": {
      "text/plain": [
       "True"
      ]
     },
     "execution_count": 12,
     "metadata": {},
     "output_type": "execute_result"
    }
   ],
   "source": [
    "#any() fonksiyonu bütün değerler False ise False, en az bir değer True ise True sonuç döndürür.\n",
    "liste = [True,False,True,False,True]\n",
    "any(liste)"
   ]
  },
  {
   "cell_type": "code",
   "execution_count": 13,
   "metadata": {},
   "outputs": [
    {
     "data": {
      "text/plain": [
       "False"
      ]
     },
     "execution_count": 13,
     "metadata": {},
     "output_type": "execute_result"
    }
   ],
   "source": [
    "liste = [0,0,0,0,0,0,0]\n",
    "any(liste)"
   ]
  },
  {
   "cell_type": "code",
   "execution_count": 1,
   "metadata": {},
   "outputs": [
    {
     "data": {
      "text/plain": [
       "'0b100'"
      ]
     },
     "execution_count": 1,
     "metadata": {},
     "output_type": "execute_result"
    }
   ],
   "source": [
    "bin(4) # bin fonksiyonu . Sayımız 2'lik tabanda yazıldı. (1 ve 0)"
   ]
  },
  {
   "cell_type": "code",
   "execution_count": 2,
   "metadata": {},
   "outputs": [
    {
     "data": {
      "text/plain": [
       "'0b10011'"
      ]
     },
     "execution_count": 2,
     "metadata": {},
     "output_type": "execute_result"
    }
   ],
   "source": [
    "bin(19) # bin fonksiyonu . Sayımız 2'lik tabanda yazıldı. (1 ve 0)"
   ]
  },
  {
   "cell_type": "code",
   "execution_count": 3,
   "metadata": {},
   "outputs": [
    {
     "data": {
      "text/plain": [
       "'0x20'"
      ]
     },
     "execution_count": 3,
     "metadata": {},
     "output_type": "execute_result"
    }
   ],
   "source": [
    "hex(32) # Sayımız 16'lık tabanda yazıldı."
   ]
  },
  {
   "cell_type": "code",
   "execution_count": 4,
   "metadata": {},
   "outputs": [
    {
     "data": {
      "text/plain": [
       "'0x36'"
      ]
     },
     "execution_count": 4,
     "metadata": {},
     "output_type": "execute_result"
    }
   ],
   "source": [
    "hex(54) # Sayımız 16'lık tabanda yazıldı."
   ]
  },
  {
   "cell_type": "code",
   "execution_count": 5,
   "metadata": {},
   "outputs": [
    {
     "data": {
      "text/plain": [
       "'0x4bc'"
      ]
     },
     "execution_count": 5,
     "metadata": {},
     "output_type": "execute_result"
    }
   ],
   "source": [
    "hex(1212) # Sayımız 16'lık tabanda yazıldı."
   ]
  },
  {
   "cell_type": "code",
   "execution_count": 6,
   "metadata": {},
   "outputs": [
    {
     "data": {
      "text/plain": [
       "4"
      ]
     },
     "execution_count": 6,
     "metadata": {},
     "output_type": "execute_result"
    }
   ],
   "source": [
    "abs(-4) #mutlak değer\n"
   ]
  },
  {
   "cell_type": "code",
   "execution_count": 7,
   "metadata": {},
   "outputs": [
    {
     "data": {
      "text/plain": [
       "4"
      ]
     },
     "execution_count": 7,
     "metadata": {},
     "output_type": "execute_result"
    }
   ],
   "source": [
    "round(3.7)#alt veya üste yuvarlama"
   ]
  },
  {
   "cell_type": "code",
   "execution_count": 8,
   "metadata": {},
   "outputs": [
    {
     "data": {
      "text/plain": [
       "3"
      ]
     },
     "execution_count": 8,
     "metadata": {},
     "output_type": "execute_result"
    }
   ],
   "source": [
    "round(3.2)"
   ]
  },
  {
   "cell_type": "code",
   "execution_count": 9,
   "metadata": {},
   "outputs": [
    {
     "data": {
      "text/plain": [
       "4"
      ]
     },
     "execution_count": 9,
     "metadata": {},
     "output_type": "execute_result"
    }
   ],
   "source": [
    "max(3,4) # en büyüğü"
   ]
  },
  {
   "cell_type": "code",
   "execution_count": 10,
   "metadata": {},
   "outputs": [
    {
     "data": {
      "text/plain": [
       "3"
      ]
     },
     "execution_count": 10,
     "metadata": {},
     "output_type": "execute_result"
    }
   ],
   "source": [
    "min(3,4) #en küçğü"
   ]
  },
  {
   "cell_type": "code",
   "execution_count": 11,
   "metadata": {},
   "outputs": [
    {
     "ename": "TypeError",
     "evalue": "'int' object is not iterable",
     "output_type": "error",
     "traceback": [
      "\u001b[1;31m---------------------------------------------------------------------------\u001b[0m",
      "\u001b[1;31mTypeError\u001b[0m                                 Traceback (most recent call last)",
      "\u001b[1;32m<ipython-input-11-1b829c01c85b>\u001b[0m in \u001b[0;36m<module>\u001b[1;34m\u001b[0m\n\u001b[0;32m      1\u001b[0m \u001b[1;31m#sum fonksiyonu¶\u001b[0m\u001b[1;33m\u001b[0m\u001b[1;33m\u001b[0m\u001b[1;33m\u001b[0m\u001b[0m\n\u001b[0;32m      2\u001b[0m \u001b[1;31m#sum() fonksiyonu verilen değerleri toplayarak döndürür. Değerlerin liste,demet vb. şeklinde verilmesi gerekir.\u001b[0m\u001b[1;33m\u001b[0m\u001b[1;33m\u001b[0m\u001b[1;33m\u001b[0m\u001b[0m\n\u001b[1;32m----> 3\u001b[1;33m \u001b[0msum\u001b[0m\u001b[1;33m(\u001b[0m\u001b[1;36m3\u001b[0m\u001b[1;33m,\u001b[0m\u001b[1;36m4\u001b[0m\u001b[1;33m)\u001b[0m\u001b[1;33m\u001b[0m\u001b[1;33m\u001b[0m\u001b[0m\n\u001b[0m",
      "\u001b[1;31mTypeError\u001b[0m: 'int' object is not iterable"
     ]
    }
   ],
   "source": [
    "#sum fonksiyonu¶\n",
    "#sum() fonksiyonu verilen değerleri toplayarak döndürür. Değerlerin liste,demet vb. şeklinde verilmesi gerekir.\n",
    "sum(3,4)\n"
   ]
  },
  {
   "cell_type": "code",
   "execution_count": 12,
   "metadata": {},
   "outputs": [
    {
     "data": {
      "text/plain": [
       "25"
      ]
     },
     "execution_count": 12,
     "metadata": {},
     "output_type": "execute_result"
    }
   ],
   "source": [
    "sum([3,4,5,6,7])"
   ]
  },
  {
   "cell_type": "code",
   "execution_count": 13,
   "metadata": {},
   "outputs": [
    {
     "data": {
      "text/plain": [
       "16"
      ]
     },
     "execution_count": 13,
     "metadata": {},
     "output_type": "execute_result"
    }
   ],
   "source": [
    "pow(2,4) # 2 üzeri 4"
   ]
  },
  {
   "cell_type": "code",
   "execution_count": 14,
   "metadata": {},
   "outputs": [
    {
     "data": {
      "text/plain": [
       "'PYTHON'"
      ]
     },
     "execution_count": 14,
     "metadata": {},
     "output_type": "execute_result"
    }
   ],
   "source": [
    "\"python\".upper()"
   ]
  },
  {
   "cell_type": "code",
   "execution_count": 15,
   "metadata": {},
   "outputs": [
    {
     "data": {
      "text/plain": [
       "'python'"
      ]
     },
     "execution_count": 15,
     "metadata": {},
     "output_type": "execute_result"
    }
   ],
   "source": [
    "\"PythOn\".lower()"
   ]
  },
  {
   "cell_type": "code",
   "execution_count": 16,
   "metadata": {},
   "outputs": [
    {
     "data": {
      "text/plain": [
       "'python'"
      ]
     },
     "execution_count": 16,
     "metadata": {},
     "output_type": "execute_result"
    }
   ],
   "source": [
    "\"PYTHON\".lower()"
   ]
  },
  {
   "cell_type": "code",
   "execution_count": 17,
   "metadata": {},
   "outputs": [
    {
     "data": {
      "text/plain": [
       "'Herkes ono bobo bocı gordoş'"
      ]
     },
     "execution_count": 17,
     "metadata": {},
     "output_type": "execute_result"
    }
   ],
   "source": [
    "#replace(x,y) : Stringteki x değerlerini y ile değiştirir.\n",
    "\n",
    "\"Herkes ana baba bacı gardaş\".replace(\"a\",\"o\")"
   ]
  },
  {
   "cell_type": "code",
   "execution_count": 18,
   "metadata": {},
   "outputs": [
    {
     "data": {
      "text/plain": [
       "'Kunzun'"
      ]
     },
     "execution_count": 18,
     "metadata": {},
     "output_type": "execute_result"
    }
   ],
   "source": [
    "\"Kunduz\".replace(\"duz\",\"zun\")"
   ]
  },
  {
   "cell_type": "code",
   "execution_count": 19,
   "metadata": {},
   "outputs": [
    {
     "data": {
      "text/plain": [
       "'Python-Programlama-Dili'"
      ]
     },
     "execution_count": 19,
     "metadata": {},
     "output_type": "execute_result"
    }
   ],
   "source": [
    "\"Python Programlama Dili\".replace(\" \",\"-\")"
   ]
  },
  {
   "cell_type": "code",
   "execution_count": 20,
   "metadata": {},
   "outputs": [
    {
     "data": {
      "text/plain": [
       "False"
      ]
     },
     "execution_count": 20,
     "metadata": {},
     "output_type": "execute_result"
    }
   ],
   "source": [
    "#startswith(x) : String x ile başlıyorsa True, başlamıyorsa False değeri döndürür.\n",
    "\n",
    "#endswith(x) : String x ile bitiyorsa True, bitmiyorsa False değeri döndürür.\n",
    "#yani x denilen şey o stringdeki yazı yani python stringi p ile başlıyor P ile veya y ile değil\n",
    "\"Python\".startswith(\"py\")"
   ]
  },
  {
   "cell_type": "code",
   "execution_count": 21,
   "metadata": {},
   "outputs": [
    {
     "data": {
      "text/plain": [
       "True"
      ]
     },
     "execution_count": 21,
     "metadata": {},
     "output_type": "execute_result"
    }
   ],
   "source": [
    "\"Python\".startswith(\"Py\")"
   ]
  },
  {
   "cell_type": "code",
   "execution_count": 23,
   "metadata": {},
   "outputs": [
    {
     "name": "stdout",
     "output_type": "stream",
     "text": [
      "['Python', 'Programlama', 'Dili']\n"
     ]
    }
   ],
   "source": [
    "#split(a) : Verilen bir a değerine göre string parçalara ayrılarak herbir parça listeye atılır.\n",
    "liste = \"Python Programlama Dili\".split(\" \") # Boşluk karakterine göre ayrıldı.\n",
    "print(liste)"
   ]
  },
  {
   "cell_type": "code",
   "execution_count": 24,
   "metadata": {},
   "outputs": [
    {
     "name": "stdout",
     "output_type": "stream",
     "text": [
      "['Python', 'Php', 'Java', 'C', 'Javascript']\n"
     ]
    }
   ],
   "source": [
    "liste2 = \"Python-Php-Java-C-Javascript\".split(\"-\")\n",
    "print(liste2)"
   ]
  },
  {
   "cell_type": "code",
   "execution_count": 25,
   "metadata": {},
   "outputs": [
    {
     "data": {
      "text/plain": [
       "'python'"
      ]
     },
     "execution_count": 25,
     "metadata": {},
     "output_type": "execute_result"
    }
   ],
   "source": [
    "#strip(x) : Stringin başında ve sonunda bulunan x değerlerini siler.\n",
    "\n",
    "#lstrip(x) : Stringin sadece başında bulunan x değerlerini siler.\n",
    "\n",
    "#rstrip(x) : Stringin sadece sonunda bulunan x değerlerini siler.\n",
    "\"                   python                          \".strip()"
   ]
  },
  {
   "cell_type": "code",
   "execution_count": 26,
   "metadata": {},
   "outputs": [
    {
     "data": {
      "text/plain": [
       "'Mustafa'"
      ]
     },
     "execution_count": 26,
     "metadata": {},
     "output_type": "execute_result"
    }
   ],
   "source": [
    "\">>>>>>>>>>>>>>Mustafa>>>>>>>>>>>>>>>>>>>>>>>>>>\".strip(\">\")"
   ]
  },
  {
   "cell_type": "code",
   "execution_count": 27,
   "metadata": {},
   "outputs": [
    {
     "data": {
      "text/plain": [
       "'python      '"
      ]
     },
     "execution_count": 27,
     "metadata": {},
     "output_type": "execute_result"
    }
   ],
   "source": [
    "\"                            python      \".lstrip()  #lüleburgazın l si yazınca stripin başına başı siler"
   ]
  },
  {
   "cell_type": "code",
   "execution_count": 28,
   "metadata": {},
   "outputs": [
    {
     "data": {
      "text/plain": [
       "'                            python'"
      ]
     },
     "execution_count": 28,
     "metadata": {},
     "output_type": "execute_result"
    }
   ],
   "source": [
    "\"                            python      \".rstrip() #r yazınca sonu"
   ]
  },
  {
   "cell_type": "code",
   "execution_count": 29,
   "metadata": {},
   "outputs": [
    {
     "data": {
      "text/plain": [
       "'21/02/2014'"
      ]
     },
     "execution_count": 29,
     "metadata": {},
     "output_type": "execute_result"
    }
   ],
   "source": [
    "  #join()  Listenin elemanlarını bir string değeriyle birleştirmemizi sağlar.\n",
    "liste = [\"21\",\"02\",\"2014\"]\n",
    "\"/\".join(liste)"
   ]
  },
  {
   "cell_type": "code",
   "execution_count": 30,
   "metadata": {},
   "outputs": [
    {
     "data": {
      "text/plain": [
       "6"
      ]
     },
     "execution_count": 30,
     "metadata": {},
     "output_type": "execute_result"
    }
   ],
   "source": [
    "#count(x): Stringin içindeki x değerlerini sayar.\n",
    "\n",
    "#count(x,index): Stringin içindeki x değerlerini verilen index değerinden başlayarak saymaya başlar.\n",
    "\"ada kapısı yandan çarklı\".count(\"a\")"
   ]
  },
  {
   "cell_type": "code",
   "execution_count": 31,
   "metadata": {},
   "outputs": [
    {
     "data": {
      "text/plain": [
       "5"
      ]
     },
     "execution_count": 31,
     "metadata": {},
     "output_type": "execute_result"
    }
   ],
   "source": [
    "\"ada kapısı yandan çarklı\".count(\"a\",2)"
   ]
  },
  {
   "cell_type": "code",
   "execution_count": 32,
   "metadata": {},
   "outputs": [
    {
     "data": {
      "text/plain": [
       "0"
      ]
     },
     "execution_count": 32,
     "metadata": {},
     "output_type": "execute_result"
    }
   ],
   "source": [
    "#find(x):x değerini baştan itibaren string içinde arar ve bulursa ilk bulduğu indeksi döndürür.Bulamazsa\"-1\" değerini verir.\n",
    "\n",
    "#rfind(x):x değerini sondan itibaren string içinde arar ve bulursa ilk bulduğu indeksi döndürür.Bulamazsa\"-1\" değerini verir.\n",
    "\n",
    "\"araba\".find(\"a\") #sıfırıncı indexte a var"
   ]
  },
  {
   "cell_type": "code",
   "execution_count": 33,
   "metadata": {},
   "outputs": [
    {
     "data": {
      "text/plain": [
       "4"
      ]
     },
     "execution_count": 33,
     "metadata": {},
     "output_type": "execute_result"
    }
   ],
   "source": [
    "\"araba\".rfind(\"a\")"
   ]
  },
  {
   "cell_type": "code",
   "execution_count": 34,
   "metadata": {},
   "outputs": [
    {
     "ename": "SyntaxError",
     "evalue": "invalid syntax (<ipython-input-34-ad84583353a4>, line 1)",
     "output_type": "error",
     "traceback": [
      "\u001b[1;36m  File \u001b[1;32m\"<ipython-input-34-ad84583353a4>\"\u001b[1;36m, line \u001b[1;32m1\u001b[0m\n\u001b[1;33m    https://www.tutorialspoint.com/python3/python_strings.htm başka metot lazım olursa.\u001b[0m\n\u001b[1;37m          ^\u001b[0m\n\u001b[1;31mSyntaxError\u001b[0m\u001b[1;31m:\u001b[0m invalid syntax\n"
     ]
    }
   ],
   "source": [
    "https://www.tutorialspoint.com/python3/python_strings.htm başka metot lazım olursa."
   ]
  },
  {
   "cell_type": "code",
   "execution_count": 36,
   "metadata": {},
   "outputs": [
    {
     "data": {
      "text/plain": [
       "{1, 2, 3}"
      ]
     },
     "execution_count": 36,
     "metadata": {},
     "output_type": "execute_result"
    }
   ],
   "source": [
    "liste = [1,2,3,3,1,1,2,2,2] # Aynı elemanı birçok defa  barındıran bir liste\n",
    "x = set(liste) # Veri tipi dönüşümü\n",
    "x  # Aynı elemanlar tek bir elemana indirgendi.\n"
   ]
  },
  {
   "cell_type": "code",
   "execution_count": 37,
   "metadata": {},
   "outputs": [
    {
     "data": {
      "text/plain": [
       "{' ', 'D', 'P', 'a', 'g', 'h', 'i', 'l', 'm', 'n', 'o', 'r', 't', 'y'}"
      ]
     },
     "execution_count": 37,
     "metadata": {},
     "output_type": "execute_result"
    }
   ],
   "source": [
    "x = set(\"Python Programlama Dili\")  # Aynı karakterler tek bir karaktere indirgendi.\n",
    "x\n"
   ]
  },
  {
   "cell_type": "code",
   "execution_count": 38,
   "metadata": {},
   "outputs": [
    {
     "data": {
      "text/plain": [
       "{'Php', 'Python'}"
      ]
     },
     "execution_count": 38,
     "metadata": {},
     "output_type": "execute_result"
    }
   ],
   "source": [
    "x = {\"Python\",\"Php\",\"Python\"}\n",
    "x # Aynı elemanlar teke indirgendi"
   ]
  },
  {
   "cell_type": "code",
   "execution_count": 40,
   "metadata": {},
   "outputs": [
    {
     "data": {
      "text/plain": [
       "{1, 2, 3, 4}"
      ]
     },
     "execution_count": 40,
     "metadata": {},
     "output_type": "execute_result"
    }
   ],
   "source": [
    "x = {1,2,3}\n",
    "x.add(4)\n",
    "x"
   ]
  },
  {
   "cell_type": "code",
   "execution_count": 41,
   "metadata": {},
   "outputs": [
    {
     "data": {
      "text/plain": [
       "{1, 2, 3, 4}"
      ]
     },
     "execution_count": 41,
     "metadata": {},
     "output_type": "execute_result"
    }
   ],
   "source": [
    "x.add(4)  #tekrar 4 ekleyemessin bunu ekledikten sonra\n",
    "x"
   ]
  },
  {
   "cell_type": "code",
   "execution_count": 42,
   "metadata": {},
   "outputs": [
    {
     "data": {
      "text/plain": [
       "{-2, 3, 10, 100}"
      ]
     },
     "execution_count": 42,
     "metadata": {},
     "output_type": "execute_result"
    }
   ],
   "source": [
    "# küme1.difference(küme2) # Küme1'in Küme2'den farkı\n",
    "küme1 = {1,2,3,10,34,100,-2}\n",
    "küme2 = {1,2,23,34,-1}\n",
    "küme1.difference(küme2)"
   ]
  },
  {
   "cell_type": "code",
   "execution_count": 44,
   "metadata": {},
   "outputs": [
    {
     "data": {
      "text/plain": [
       "{-2, 1, 2, 3, 10, 34, 100}"
      ]
     },
     "execution_count": 44,
     "metadata": {},
     "output_type": "execute_result"
    }
   ],
   "source": [
    "#küme1.difference_update(küme2) # Küme1'in Küme2'den farkı\n",
    "küme1\n"
   ]
  },
  {
   "cell_type": "code",
   "execution_count": 45,
   "metadata": {},
   "outputs": [
    {
     "data": {
      "text/plain": [
       "{-1, 1, 2, 23, 34}"
      ]
     },
     "execution_count": 45,
     "metadata": {},
     "output_type": "execute_result"
    }
   ],
   "source": [
    "küme2\n"
   ]
  },
  {
   "cell_type": "code",
   "execution_count": 49,
   "metadata": {},
   "outputs": [
    {
     "data": {
      "text/plain": [
       "{-2, 3, 10, 100}"
      ]
     },
     "execution_count": 49,
     "metadata": {},
     "output_type": "execute_result"
    }
   ],
   "source": [
    "küme1.difference_update(küme2)\n",
    "küme1\n"
   ]
  },
  {
   "cell_type": "code",
   "execution_count": 50,
   "metadata": {},
   "outputs": [
    {
     "data": {
      "text/plain": [
       "{1, 3, 4, 5, 6}"
      ]
     },
     "execution_count": 50,
     "metadata": {},
     "output_type": "execute_result"
    }
   ],
   "source": [
    "küme1 = {1,2,3,4,5,6}\n",
    "küme1.discard(2)\n",
    "küme1"
   ]
  },
  {
   "cell_type": "code",
   "execution_count": 51,
   "metadata": {},
   "outputs": [
    {
     "data": {
      "text/plain": [
       "{1, 2, 34}"
      ]
     },
     "execution_count": 51,
     "metadata": {},
     "output_type": "execute_result"
    }
   ],
   "source": [
    "küme1 = {1,2,3,10,34,100,-2}\n",
    "küme2 = {1,2,23,34,-1}\n",
    "küme1.intersection(küme2) #kesişim"
   ]
  },
  {
   "cell_type": "code",
   "execution_count": 52,
   "metadata": {},
   "outputs": [
    {
     "data": {
      "text/plain": [
       "{1, 2, 34}"
      ]
     },
     "execution_count": 52,
     "metadata": {},
     "output_type": "execute_result"
    }
   ],
   "source": [
    "küme1 = {1,2,3,10,34,100,-2}\n",
    "küme2 = {1,2,23,34,-1}\n",
    "küme1.intersection_update(küme2) #Bu metod birinci kümeyle ikinci kümenin kesişimlerini bulur \n",
    "                                  #ve birinci kümeyi bu kesişime göre günceller.\n",
    "küme1\n"
   ]
  },
  {
   "cell_type": "code",
   "execution_count": 53,
   "metadata": {},
   "outputs": [
    {
     "data": {
      "text/plain": [
       "False"
      ]
     },
     "execution_count": 53,
     "metadata": {},
     "output_type": "execute_result"
    }
   ],
   "source": [
    "#Bu metod, eğer iki kümenin kesişim kümesi boş ise True, değilse False döner.\n",
    "küme1 = {1,2,3,10,34,100,-2}\n",
    "küme2 = {1,2,23,34,-1}\n",
    "küme3 = {30,40,50}\n",
    "küme1.isdisjoint(küme2)"
   ]
  },
  {
   "cell_type": "code",
   "execution_count": 54,
   "metadata": {},
   "outputs": [
    {
     "data": {
      "text/plain": [
       "True"
      ]
     },
     "execution_count": 54,
     "metadata": {},
     "output_type": "execute_result"
    }
   ],
   "source": [
    "küme1.isdisjoint(küme3)"
   ]
  },
  {
   "cell_type": "code",
   "execution_count": 55,
   "metadata": {},
   "outputs": [
    {
     "data": {
      "text/plain": [
       "True"
      ]
     },
     "execution_count": 55,
     "metadata": {},
     "output_type": "execute_result"
    }
   ],
   "source": [
    "#Bu metod , birinci küme ikinci kümenin alt kümesiyse True, değilse False döner.\n",
    "küme1 = {1,2,3}\n",
    "küme2 = {1,2,3,4}\n",
    "küme3 = {5,6,7}\n",
    "küme1.issubset(küme2)"
   ]
  },
  {
   "cell_type": "code",
   "execution_count": 56,
   "metadata": {},
   "outputs": [
    {
     "data": {
      "text/plain": [
       "False"
      ]
     },
     "execution_count": 56,
     "metadata": {},
     "output_type": "execute_result"
    }
   ],
   "source": [
    "küme1.issubset(küme3)"
   ]
  },
  {
   "cell_type": "code",
   "execution_count": 57,
   "metadata": {},
   "outputs": [
    {
     "data": {
      "text/plain": [
       "{-2, -1, 1, 2, 3, 10, 23, 34, 100}"
      ]
     },
     "execution_count": 57,
     "metadata": {},
     "output_type": "execute_result"
    }
   ],
   "source": [
    "#Bu metod, iki kümenin birleşim kümesini döner.\n",
    "küme1 = {1,2,3,10,34,100,-2}\n",
    "küme2 = {1,2,23,34,-1}\n",
    "küme1.union(küme2)"
   ]
  },
  {
   "cell_type": "code",
   "execution_count": 58,
   "metadata": {},
   "outputs": [],
   "source": [
    "#Bu birinci kümeyle ikinci kümenin birleşim kümesini döner ve birinci kümeyi buna göre günceller.\n",
    "küme1 = {1,2,3,10,34,100,-2}\n",
    "küme2 = {1,2,23,34,-1}\n",
    "\n",
    "küme1.update(küme2)"
   ]
  },
  {
   "cell_type": "code",
   "execution_count": 59,
   "metadata": {},
   "outputs": [
    {
     "data": {
      "text/plain": [
       "[1, 2, 3, 4, 5, 6, 7, 10, 11, 12]"
      ]
     },
     "execution_count": 59,
     "metadata": {},
     "output_type": "execute_result"
    }
   ],
   "source": [
    "#extend() metodu bir listeye başka bir listenin elemanları eklememizi sağlar.\n",
    "liste = [1,2,3,4,5,6,7]\n",
    "liste.extend([10,11,12])\n",
    "liste"
   ]
  },
  {
   "cell_type": "code",
   "execution_count": 60,
   "metadata": {},
   "outputs": [
    {
     "data": {
      "text/plain": [
       "[1, 2, 'Python', 3, 4, 5, 6, 7, 8, 9]"
      ]
     },
     "execution_count": 60,
     "metadata": {},
     "output_type": "execute_result"
    }
   ],
   "source": [
    "#insert() metodu listenin belli bir indeksine bir eleman eklememizi sağlar.\n",
    "liste = [1,2,3,4,5,6,7,8,9]\n",
    "liste.insert(2,\"Python\") # 2.indekse \"Python\" değerini ekliyoruz.\n",
    "liste"
   ]
  },
  {
   "cell_type": "code",
   "execution_count": 61,
   "metadata": {},
   "outputs": [
    {
     "data": {
      "text/plain": [
       "[1, 2, 3, 4, 5, 6]"
      ]
     },
     "execution_count": 61,
     "metadata": {},
     "output_type": "execute_result"
    }
   ],
   "source": [
    "#pop() metodu içine hiçbir değer vermezsek listenin son elemanını silerek ekrana basar. \n",
    "#İçine belli bir indeks değeri verirsek o indeksi siler ve ekrana basar.\n",
    "liste = [1,2,3,4,5,6,7]\n",
    "liste.pop() # Son eleman siliniyor.\n",
    "liste"
   ]
  },
  {
   "cell_type": "code",
   "execution_count": 63,
   "metadata": {},
   "outputs": [
    {
     "data": {
      "text/plain": [
       "[1, 2, 5, 6]"
      ]
     },
     "execution_count": 63,
     "metadata": {},
     "output_type": "execute_result"
    }
   ],
   "source": [
    "liste.pop(2) # 2.indeksteki eleman siliniyor.\n",
    "liste"
   ]
  },
  {
   "cell_type": "code",
   "execution_count": 64,
   "metadata": {},
   "outputs": [
    {
     "data": {
      "text/plain": [
       "['Php', 'Java', 'C']"
      ]
     },
     "execution_count": 64,
     "metadata": {},
     "output_type": "execute_result"
    }
   ],
   "source": [
    "#remove() metodu verdiğimiz değeri listeden çıkarmamızı sağlar.\n",
    "liste = [\"Python\",\"Php\",\"Java\",\"C\"]\n",
    "liste.remove(\"Python\") # Python'ı siliyoruz.\n",
    "liste"
   ]
  },
  {
   "cell_type": "code",
   "execution_count": 65,
   "metadata": {},
   "outputs": [
    {
     "data": {
      "text/plain": [
       "2"
      ]
     },
     "execution_count": 65,
     "metadata": {},
     "output_type": "execute_result"
    }
   ],
   "source": [
    "#index() metodu verilen bir değerin baştan başlayarak hangi indekste olduğunu söyler. \n",
    "#Değer listede yoksa hata döner. \n",
    "#Eğer ekstra index değeri belirtilirse, index metodu() değeri bu indeksten itibaren aramaya çalışır.\n",
    "liste = [1,2,3,4,3,3,5,6,7,8,9]\n",
    "liste.index(3) # 3 elemanı baştan başlayarak 2.indekste\n"
   ]
  },
  {
   "cell_type": "code",
   "execution_count": 66,
   "metadata": {},
   "outputs": [
    {
     "data": {
      "text/plain": [
       "4"
      ]
     },
     "execution_count": 66,
     "metadata": {},
     "output_type": "execute_result"
    }
   ],
   "source": [
    "liste.index(3,3) # 3 elemanı 3.indekten itibaren arandığından 4.indekste "
   ]
  },
  {
   "cell_type": "code",
   "execution_count": 67,
   "metadata": {},
   "outputs": [
    {
     "data": {
      "text/plain": [
       "[-2, 1, 3, 12, 34, 100]"
      ]
     },
     "execution_count": 67,
     "metadata": {},
     "output_type": "execute_result"
    }
   ],
   "source": [
    "#sort() metodu bir listenin elemanlarını sayıysa küçükten büyüğe , string ise alfabetik olarak sıralar. \n",
    "#Eğer özellikle içine reverse = True değeri verilirse elemanları büyükten küçüğe sıralar.\n",
    "liste = [12,-2,3,1,34,100]\n",
    "liste.sort()\n",
    "liste"
   ]
  },
  {
   "cell_type": "code",
   "execution_count": 68,
   "metadata": {},
   "outputs": [
    {
     "data": {
      "text/plain": [
       "[100, 34, 12, 3, 1, -2]"
      ]
     },
     "execution_count": 68,
     "metadata": {},
     "output_type": "execute_result"
    }
   ],
   "source": [
    "liste = [12,-2,3,1,34,100]\n",
    "liste.sort(reverse = True)\n",
    "liste"
   ]
  },
  {
   "cell_type": "code",
   "execution_count": null,
   "metadata": {},
   "outputs": [],
   "source": [
    "import sqlite3 # Sqlite'yı dahil ediyoruz\n",
    "\n",
    "con = sqlite3.connect(\"kütüphane.db\") # Tabloya bağlanıyoruz.\n",
    "\n",
    "cursor = con.cursor() # cursor isimli değişken veritabanı üzerinde işlem yapmak için kullanacağımız imleç olacak.\n",
    "\n",
    "\n",
    "con.close() # Bağlantıyı koparıyoruz.\n",
    "Kitaplık Tablosu oluşturma\n",
    "Veritabanında kitaplık isimli bir tablo oluşturmak için şu 2 sorgudan birini kullanabiliriz.\n",
    "\n",
    "CREATE TABLE kitaplık (İsim TEXT, Yazar TEXT, Yayınevi TEXT , Sayfa_Sayısı INT) - \n",
    "Bu sorgu kitaplık isimli bir tablo oluşturacak ve bu tablonun özellikleri \n",
    "İsim (TEXT --> String),Yazar(TEXT --> String),Yayınevi (TEXT ---> String), Sayfa_Sayısı(INT --- int) olacak. \n",
    "Ancak bu sorguyu arda arda çalıştırırsak \"Tablo Already Exists\" hatası alacağız.\n",
    "\n",
    "CREATE TABLE IF NOT EXISTS kitaplık (İsim TEXT, Yazar TEXT, Yayınevi TEXT , Sayfa_Sayısı INT) - \n",
    "Bu sorgu tablo yoksa oluşturacak, tablo varsa hata vermeyecektir. Kodlarımız şu şekilde;\n",
    "\n",
    "\n",
    "import sqlite3 # Sqlite'yı dahil ediyoruz\n",
    "\n",
    "con = sqlite3.connect(\"kütüphane.db\") # Tabloya bağlanıyoruz.\n",
    "\n",
    "cursor = con.cursor() # cursor isimli değişken veritabanı üzerinde işlem yapmak için kullanacağımız imleç olacak.\n",
    "\n",
    "def tablo_oluştur():\n",
    "    cursor.execute(\"CREATE TABLE IF NOT EXISTS kitaplık (İsim TEXT, Yazar TEXT, Yayınevi TEXT, Sayfa_Sayısı INT)\") \n",
    "    # Sorguyu çalıştırıyoruz.\n",
    "    con.commit() # Sorgunun veritabanı üzerinde geçerli olması için commit işlemi gerekli.\n",
    "tablo_oluştur()\n",
    "con.close() # Bağlantıyı koparıyoruz."
   ]
  },
  {
   "cell_type": "code",
   "execution_count": null,
   "metadata": {},
   "outputs": [],
   "source": [
    "TABLOYA VERİ EKLEME\n",
    "\n",
    "\n",
    "import sqlite3 # Sqlite'yı dahil ediyoruz\n",
    "\n",
    "con = sqlite3.connect(\"kütüphane.db\") # Tabloya bağlanıyoruz.\n",
    "\n",
    "cursor = con.cursor() # cursor isimli değişken veritabanı üzerinde işlem yapmak için kullanacağımız imleç olacak.\n",
    "\n",
    "def tablo_oluştur():\n",
    "    cursor.execute(\"CREATE TABLE IF NOT EXISTS kitaplık (İsim TEXT, Yazar TEXT, Yayınevi TEXT, Sayfa_Sayısı INT)\") \n",
    "    # Sorguyu çalıştırıyoruz.\n",
    "    con.commit() # Sorgunun veritabanı üzerinde geçerli olması için commit işlemi gerekli.\n",
    "tablo_oluştur()\n",
    "con.close() # Bağlantıyı koparıyoruz.\n",
    "\n",
    "\n",
    "#Şimdi de kitaplık tablomuza veri eklemeye çalışalım. Çalıştıracağımız sorgu şu olacak;\n",
    "\n",
    "INSERT INTO kitaplık VALUES('İstanbul Hatırası','Ahmet Ümit','Everest',561)\n",
    "\n",
    "Not : SQL Sorguları büyük veya küçük harfle de yazılabilir. Örnek olarak\n",
    "\n",
    "insert into kitaplık values ('İstanbul Hatırası','Ahmet Ümit','Everest',561)\n",
    "\n",
    "Insert Into kitaplık Values ('İstanbul Hatırası','Ahmet Ümit','Everest',561)\n",
    "\n",
    "import sqlite3 \n",
    "\n",
    "con = sqlite3.connect(\"kütüphane.db\")\n",
    "\n",
    "cursor = con.cursor() \n",
    "\n",
    "def tablo_oluştur():\n",
    "    cursor.execute(\"CREATE TABLE IF NOT EXISTS kitaplık (İsim TEXT, Yazar TEXT, Yayınevi TEXT, Sayfa_Sayısı INT)\") \n",
    "    con.commit()\n",
    "def deger_ekle(isim,yazar,yayınevi,sayfa_sayısı):\n",
    "    cursor.execute(\"INSERT INTO kitaplık VALUES('İstanbul Hatırası','Ahmet Ümit','Everest',261)\")\n",
    "    con.commit()\n",
    "deger_ekle()\n",
    "con.close()\n",
    "\n",
    "\n",
    "Peki kullanıcıdan aldığımız değerleri tabloya nasıl ekliyoruz ? Onun için de sorgumuzu ve kodumuzu biraz değiştireceğiz.\n",
    "\n",
    "import sqlite3 \n",
    "\n",
    "con = sqlite3.connect(\"kütüphane.db\")\n",
    "\n",
    "cursor = con.cursor() \n",
    "\n",
    "def tablo_oluştur():\n",
    "    cursor.execute(\"CREATE TABLE IF NOT EXISTS kitaplık (İsim TEXT, Yazar TEXT, Yayınevi TEXT, Sayfa_Sayısı INT)\") \n",
    "    con.commit()\n",
    "def deger_ekle(isim,yazar,yayınevi,sayfa_sayısı):\n",
    "    cursor.execute(\"INSERT INTO kitaplık VALUES(?,?,?,?)\",(isim,yazar,yayınevi,sayfa_sayısı))\n",
    "    con.commit()\n",
    "isim = input(\"İsim:\")\n",
    "yazar = input(\"Yazar:\")\n",
    "yayınevi = input(\"Yayınevi:\")\n",
    "sayfa_sayısı =  int(input(\"Sayfa Sayısı:\"))\n",
    "\n",
    "\n",
    "deger_ekle(isim,yazar,yayınevi,sayfa_sayısı)\n",
    "\n",
    "con.close()"
   ]
  },
  {
   "cell_type": "code",
   "execution_count": null,
   "metadata": {},
   "outputs": [],
   "source": [
    "Tablodaki Verileri Çekme¶\n",
    "Önceki derslerimizde Tablo oluşturmayı ve Tabloya veri eklemeyi öğrenmiştik.\n",
    "Bu derste de tablodaki verileri nasıl çekeceğimizi öğrenmeye çalışacağız. \n",
    "Tablodan veri çekmek için şu SQL sorgularını kullanacağız.\n",
    "\n",
    "Select * From kitaplık - Tablodaki tüm bilgileri almamızı sağlar.\n",
    "\n",
    "Select İsim,Yazar From kitaplık Tablodaki tüm bilgileri sadece İsim ve Yazar özelliklerini almamızı sağlar.\n",
    "\n",
    "Select * From kitaplık where Yayınevi = 'Everest' Sadece Yayınevi özelliği Everest olanları alır.\n",
    "\n",
    "Şimdi isterseniz ilk sorgumuzu çalıştırdığımız kodumuzu yazalım.\n",
    "\n",
    "import sqlite3\n",
    "\n",
    "con = sqlite3.connect(\"kütüphane.db\")\n",
    "\n",
    "cursor = con.cursor()\n",
    "def tablo_olustur():\n",
    "    cursor.execute(\"CREATE TABLE IF NOT EXISTS kitaplık (İsim TEXT,Yazar TEXT,Yayınevi TEXT,Sayfa_Sayısı INT)\")\n",
    "    con.commit()\n",
    "def deger_ekle(isim,yazar,yayınevi,sayfa_sayısı):\n",
    "    cursor.execute(\"Insert into kitaplık Values(?,?,?,?)\",(isim,yazar,yayınevi,sayfa_sayısı))\n",
    "    con.commit()\n",
    "def verileri_al():\n",
    "    cursor.execute(\"Select * From kitaplık\") # Bütün bilgileri alıyoruz.\n",
    "    data = cursor.fetchall() # Veritabanından bilgileri çekmek için fetchall() kullanıyoruz.\n",
    "    print(\"Kitaplık Tablosunun bilgileri.....\")\n",
    "    for i in data:\n",
    "        print(i)\n",
    "    # con.commit() işlemine gerek yok. Çünkü tabloda herhangi bir güncelleme yapmıyoruz.\n",
    "verileri_al()\n",
    "con.close()\n",
    "\n",
    "\n",
    "İkinci sorgumuzu çalıştırdığımız kodumuzu da yazalım.\n",
    "\n",
    "import sqlite3\n",
    "\n",
    "con = sqlite3.connect(\"kütüphane.db\")\n",
    "\n",
    "cursor = con.cursor()\n",
    "def tablo_olustur():\n",
    "    cursor.execute(\"CREATE TABLE IF NOT EXISTS kitaplık (İsim TEXT,Yazar TEXT,Yayınevi TEXT,Sayfa_Sayısı INT)\")\n",
    "    con.commit()\n",
    "def deger_ekle(isim,yazar,yayınevi,sayfa_sayısı):\n",
    "    cursor.execute(\"Insert into kitaplık Values(?,?,?,?)\",(isim,yazar,yayınevi,sayfa_sayısı))\n",
    "    con.commit()\n",
    "def verileri_al():\n",
    "    cursor.execute(\"Select * From kitaplık\")\n",
    "    data = cursor.fetchall()\n",
    "    print(\"Kitaplık Tablosunun bilgileri.....\")\n",
    "    for i in data:\n",
    "        print(i)\n",
    "def verileri_al2():\n",
    "    cursor.execute(\"Select İsim,Yazar From kitaplık\") # Sadece İsim ve Yazar özelliklerini alıyoruz.\n",
    "    data = cursor.fetchall()\n",
    "    print(\"Kitaplık Tablosunun bilgileri.....\")\n",
    "    for i in data:\n",
    "        print(i)\n",
    "verileri_al2()\n",
    "con.close()\n",
    "\n",
    "\n",
    "Son olarak da 3. sorgumuzu çalıştırdığımız kodumuzu da yazalım.\n",
    "\n",
    "\n",
    "import sqlite3\n",
    "\n",
    "con = sqlite3.connect(\"kütüphane.db\")\n",
    "\n",
    "cursor = con.cursor()\n",
    "def tablo_olustur():\n",
    "    cursor.execute(\"CREATE TABLE IF NOT EXISTS kitaplık (İsim TEXT,Yazar TEXT,Yayınevi TEXT,Sayfa_Sayısı INT)\")\n",
    "    con.commit()\n",
    "def deger_ekle(isim,yazar,yayınevi,sayfa_sayısı):\n",
    "    cursor.execute(\"Insert into kitaplık Values(?,?,?,?)\",(isim,yazar,yayınevi,sayfa_sayısı))\n",
    "    con.commit()\n",
    "def verileri_al():\n",
    "    cursor.execute(\"Select * From kitaplık\")\n",
    "    data = cursor.fetchall()\n",
    "    print(\"Kitaplık Tablosunun bilgileri.....\")\n",
    "    for i in data:\n",
    "        print(i)\n",
    "def verileri_al2():\n",
    "    cursor.execute(\"Select İsim,Yazar From kitaplık\")\n",
    "    data = cursor.fetchall()\n",
    "    print(\"Kitaplık Tablosunun bilgileri.....\")\n",
    "    for i in data:\n",
    "        print(i)\n",
    "def verileri_al3(yayınevi):\n",
    "    cursor.execute(\"Select * From kitaplık where Yayınevi = ?\",(yayınevi,)) # Sadece yayınevi ,Everest olan kitapları alıyoruz.\n",
    "    data = cursor.fetchall()\n",
    "    print(\"Kitaplık Tablosunun bilgileri.....\")\n",
    "    for i in data:\n",
    "        print(i)\n",
    "verileri_al3(\"Everest\")\n",
    "con.close()     \n",
    "\n",
    "Burada 3 farklı veri çekme işlemi gerçekleştirdik. Buradaki işlemlere daha sonra çalışabilirsiniz. \n",
    "Bir sonraki derste tablo güncelleme ve tablodaki verileri silmeyi öğreneceğiz."
   ]
  },
  {
   "cell_type": "code",
   "execution_count": null,
   "metadata": {},
   "outputs": [],
   "source": [
    "Tablodaki Verileri Güncelleme ve Silme\n",
    "Bu derste Sqlite veritabanı ile ilgili son olarak verileri güncellemeyi ve silmeyi öğreneceğiz.\n",
    "\n",
    "Verileri Güncelleme\n",
    "Tablodaki verileri güncelleme için şöyle bir sorgu kullanabiliriz.\n",
    "\n",
    "Update kitaplık set Yayınevi = 'Everest' where Yayınevi = 'Doğan Kitap' -- Yayınevi 'Doğan Kitap' olan kitapların \n",
    "                                                                        Yayınevi bilgilerini 'Everest' e günceller.\n",
    "\n",
    "import sqlite3\n",
    "\n",
    "con = sqlite3.connect(\"kütüphane.db\")\n",
    "\n",
    "cursor = con.cursor()\n",
    "def tablo_olustur():\n",
    "    cursor.execute(\"CREATE TABLE IF NOT EXISTS kitaplık (İsim TEXT,Yazar TEXT,Yayınevi TEXT,Sayfa_Sayısı INT)\")\n",
    "    con.commit()\n",
    "def deger_ekle(isim,yazar,yayınevi,sayfa_sayısı):\n",
    "    cursor.execute(\"Insert into kitaplık Values(?,?,?,?)\",(isim,yazar,yayınevi,sayfa_sayısı))\n",
    "    con.commit()\n",
    "def verileri_al():\n",
    "    cursor.execute(\"Select * From kitaplık\")\n",
    "    data = cursor.fetchall()\n",
    "    print(\"Kitaplık Tablosunun bilgileri.....\")\n",
    "    for i in data:\n",
    "        print(i)\n",
    "def verileri_al2():\n",
    "    cursor.execute(\"Select İsim,Yazar From kitaplık\")\n",
    "    data = cursor.fetchall()\n",
    "    print(\"Kitaplık Tablosunun bilgileri.....\")\n",
    "    for i in data:\n",
    "        print(i)\n",
    "def verileri_al3(yayınevi):\n",
    "    cursor.execute(\"Select * From kitaplık where Yayınevi = ?\",(yayınevi,))\n",
    "    data = cursor.fetchall()\n",
    "    print(\"Kitaplık Tablosunun bilgileri.....\")\n",
    "    for i in data:\n",
    "        print(i)\n",
    "def verigüncelle(yayınevi):\n",
    "    cursor.execute(\"Update kitaplık set Yayınevi = ? where Yayınevi =  ?\",(\"Everest\",yayınevi))\n",
    "    con.commit()\n",
    "\n",
    "verigüncelle(\"Doğan Kitap\")\n",
    "con.close() \n",
    "\n",
    " ****Verileri Silme*******\n",
    "Tablodaki verileri silme için şöyle bir sorgu kullanabiliriz.\n",
    "\n",
    "Delete From kitaplık where Yazar = 'Ahmet Ümit' -- Yazar özelliği 'Ahmet Ümit' olan kitapları tablodan siler.\n",
    "\n",
    "Şimdi isterseniz bu sorguyu çalıştırdığımız kodumuzu yazalım.\n",
    "\n",
    "\n",
    "import sqlite3\n",
    "\n",
    "con = sqlite3.connect(\"kütüphane.db\")\n",
    "\n",
    "cursor = con.cursor()\n",
    "def tablo_olustur():\n",
    "    cursor.execute(\"CREATE TABLE IF NOT EXISTS kitaplık (İsim TEXT,Yazar TEXT,Yayınevi TEXT,Sayfa_Sayısı INT)\")\n",
    "    con.commit()\n",
    "def deger_ekle(isim,yazar,yayınevi,sayfa_sayısı):\n",
    "    cursor.execute(\"Insert into kitaplık Values(?,?,?,?)\",(isim,yazar,yayınevi,sayfa_sayısı))\n",
    "    con.commit()\n",
    "def verileri_al():\n",
    "    cursor.execute(\"Select * From kitaplık\")\n",
    "    data = cursor.fetchall()\n",
    "    print(\"Kitaplık Tablosunun bilgileri.....\")\n",
    "    for i in data:\n",
    "        print(i)\n",
    "def verileri_al2():\n",
    "    cursor.execute(\"Select İsim,Yazar From kitaplık\")\n",
    "    data = cursor.fetchall()\n",
    "    print(\"Kitaplık Tablosunun bilgileri.....\")\n",
    "    for i in data:\n",
    "        print(i)\n",
    "def verileri_al3(yayınevi):\n",
    "    cursor.execute(\"Select * From kitaplık where Yayınevi = ?\",(yayınevi,))\n",
    "    data = cursor.fetchall()\n",
    "    print(\"Kitaplık Tablosunun bilgileri.....\")\n",
    "    for i in data:\n",
    "        print(i)\n",
    "def verigüncelle(yayınevi):\n",
    "    cursor.execute(\"Update kitaplık set Yayınevi = ? where Yayınevi =  ?\",(\"Everest\",yayınevi))\n",
    "    con.commit()\n",
    "def verilerisil(yazar):\n",
    "    cursor.execute(\"Delete  From kitaplık where Yazar = ?\",(yazar,))\n",
    "    con.commit()\n",
    "    \n",
    "verilerisil(\"Ahmet Ümit\")\n",
    "con.close()   "
   ]
  },
  {
   "cell_type": "code",
   "execution_count": 2,
   "metadata": {},
   "outputs": [
    {
     "name": "stdout",
     "output_type": "stream",
     "text": [
      "(1, 2, 3)\n",
      "1\n",
      "2\n",
      "3\n"
     ]
    }
   ],
   "source": [
    "def fonksiyon(*args): # İstediğimiz sayıda argüman gönderebiliyoruz.\n",
    "    print(args)\n",
    "    for i in args:\n",
    "        print(i)\n",
    "fonksiyon(1,2,3)        "
   ]
  },
  {
   "cell_type": "code",
   "execution_count": 3,
   "metadata": {},
   "outputs": [
    {
     "name": "stdout",
     "output_type": "stream",
     "text": [
      "İsim: Murat\n",
      "1\n",
      "2\n",
      "3\n",
      "4\n",
      "5\n",
      "6\n",
      "7\n",
      "8\n"
     ]
    }
   ],
   "source": [
    "def fonksiyon(isim,*args): \n",
    "    print(\"İsim:\",isim)\n",
    "    for i in args:\n",
    "        print(i)\n",
    "fonksiyon(\"Murat\",1,2,3,4,5,6,7,8)"
   ]
  },
  {
   "cell_type": "code",
   "execution_count": 4,
   "metadata": {},
   "outputs": [
    {
     "name": "stdout",
     "output_type": "stream",
     "text": [
      "{'isim': 'Murat', 'soyisim': 'Coşkun', 'numara': 12345}\n"
     ]
    }
   ],
   "source": [
    "def fonksiyon(**kwargs):\n",
    "    print(kwargs)\n",
    "fonksiyon(isim = \"Murat\", soyisim = \"Coşkun\", numara = 12345)\n",
    "#Dikkat ederseniz 2 yıldız koyarak keyword argümanlar ile (anahtar kelimeli argümanlar) \n",
    "#fonksiyonumuzu tanımladık ve argümanlara isim vererek fonksiyonumuzu çağırdığımızda isimleri anahtar kelime , \n",
    "#argüman değerlerini değer olarak alarak fonksiyonumuz sözlük oluşturdu. \n",
    "#İşte keyword argümanlar bu şekilde kullanılabiliyor."
   ]
  },
  {
   "cell_type": "code",
   "execution_count": 5,
   "metadata": {},
   "outputs": [
    {
     "name": "stdout",
     "output_type": "stream",
     "text": [
      "Argüman İsmi: isim Argüman Değeri: Murat\n",
      "Argüman İsmi: soyisim Argüman Değeri: Coşkun\n",
      "Argüman İsmi: numara Argüman Değeri: 12345\n"
     ]
    }
   ],
   "source": [
    "def fonksiyon(**kwargs):\n",
    "    for i,j in kwargs.items():\n",
    "        print(\"Argüman İsmi:\",i,\"Argüman Değeri:\",j)\n",
    "fonksiyon(isim = \"Murat\", soyisim = \"Coşkun\", numara = 12345)"
   ]
  },
  {
   "cell_type": "code",
   "execution_count": 6,
   "metadata": {},
   "outputs": [
    {
     "name": "stdout",
     "output_type": "stream",
     "text": [
      "Argümanlar: 1\n",
      "Argümanlar: 2\n",
      "Argümanlar: 3\n",
      "Argümanlar: 4\n",
      "Argümanlar: 5\n",
      "Argümanlar: 6\n",
      "Argümanlar: 7\n",
      "------------------------------\n",
      "Argüman İsmi: isim Argüman Değeri: Murat\n",
      "Argüman İsmi: soyisim Argüman Değeri: Coşkun\n",
      "Argüman İsmi: numara Argüman Değeri: 12345\n"
     ]
    }
   ],
   "source": [
    "def fonksiyon(*args,**kwargs):\n",
    "    for i in args:\n",
    "        print(\"Argümanlar:\",i)\n",
    "    print(\"------------------------------\")\n",
    "    for i ,j in kwargs.items():\n",
    "        print(\"Argüman İsmi:\",i,\"Argüman Değeri:\",j)\n",
    "fonksiyon(1,2,3,4,5,6,7,isim = \"Murat\",soyisim = \"Coşkun\", numara = 12345)"
   ]
  },
  {
   "cell_type": "code",
   "execution_count": null,
   "metadata": {},
   "outputs": [],
   "source": [
    "************************************************"
   ]
  },
  {
   "cell_type": "code",
   "execution_count": 7,
   "metadata": {},
   "outputs": [
    {
     "name": "stdout",
     "output_type": "stream",
     "text": [
      "Selam Ayşe\n"
     ]
    }
   ],
   "source": [
    "def selamla(isim):\n",
    "    print(\"Selam\",isim)\n",
    "selamla(\"Ayşe\")"
   ]
  },
  {
   "cell_type": "code",
   "execution_count": 8,
   "metadata": {},
   "outputs": [
    {
     "data": {
      "text/plain": [
       "<function __main__.selamla(isim)>"
      ]
     },
     "execution_count": 8,
     "metadata": {},
     "output_type": "execute_result"
    }
   ],
   "source": [
    "# Bir tane değişkene atıyoruz.\n",
    "\n",
    "merhaba = selamla\n",
    "merhaba # Obje tipi fonksiyon oldu."
   ]
  },
  {
   "cell_type": "code",
   "execution_count": 9,
   "metadata": {},
   "outputs": [
    {
     "data": {
      "text/plain": [
       "<function __main__.selamla(isim)>"
      ]
     },
     "execution_count": 9,
     "metadata": {},
     "output_type": "execute_result"
    }
   ],
   "source": [
    "selamla # Obje tipi fonksiyon"
   ]
  },
  {
   "cell_type": "code",
   "execution_count": 10,
   "metadata": {},
   "outputs": [
    {
     "name": "stdout",
     "output_type": "stream",
     "text": [
      "Selam Ayşe\n"
     ]
    }
   ],
   "source": [
    "merhaba(\"Ayşe\") # Fonksiyon olduğu için artık bu isimle de kullanabilirim."
   ]
  },
  {
   "cell_type": "code",
   "execution_count": 12,
   "metadata": {},
   "outputs": [
    {
     "ename": "NameError",
     "evalue": "name 'selamla' is not defined",
     "output_type": "error",
     "traceback": [
      "\u001b[1;31m---------------------------------------------------------------------------\u001b[0m",
      "\u001b[1;31mNameError\u001b[0m                                 Traceback (most recent call last)",
      "\u001b[1;32m<ipython-input-12-8299997bcaec>\u001b[0m in \u001b[0;36m<module>\u001b[1;34m\u001b[0m\n\u001b[1;32m----> 1\u001b[1;33m \u001b[1;32mdel\u001b[0m \u001b[0mselamla\u001b[0m \u001b[1;31m# Selamla fonksiyonunu siliyorum.\u001b[0m\u001b[1;33m\u001b[0m\u001b[1;33m\u001b[0m\u001b[0m\n\u001b[0m\u001b[0;32m      2\u001b[0m \u001b[0mselamla\u001b[0m\u001b[1;33m\u001b[0m\u001b[1;33m\u001b[0m\u001b[0m\n",
      "\u001b[1;31mNameError\u001b[0m: name 'selamla' is not defined"
     ]
    }
   ],
   "source": [
    "del selamla # Selamla fonksiyonunu siliyorum.\n",
    "selamla"
   ]
  },
  {
   "cell_type": "code",
   "execution_count": 13,
   "metadata": {},
   "outputs": [
    {
     "name": "stdout",
     "output_type": "stream",
     "text": [
      "Selam Kemal\n"
     ]
    }
   ],
   "source": [
    "merhaba(\"Kemal\") # selamla objesi silinmesine rağmen merhaba objesi silinmedi."
   ]
  },
  {
   "cell_type": "code",
   "execution_count": null,
   "metadata": {},
   "outputs": [],
   "source": [
    "***************************************"
   ]
  },
  {
   "cell_type": "code",
   "execution_count": 15,
   "metadata": {},
   "outputs": [
    {
     "name": "stdout",
     "output_type": "stream",
     "text": [
      "Büyük fonksiyondan Merhaba\n",
      "Küçük fonksiyondan Merhaba\n"
     ]
    }
   ],
   "source": [
    "def fonksiyon():\n",
    "    def fonksiyon2():\n",
    "        print(\"Küçük fonksiyondan Merhaba\")\n",
    "    print(\"Büyük fonksiyondan Merhaba\")\n",
    "    fonksiyon2() # Tanımladığım fonksiyonu kullanabilirim.\n",
    "fonksiyon()"
   ]
  },
  {
   "cell_type": "code",
   "execution_count": 16,
   "metadata": {},
   "outputs": [
    {
     "ename": "NameError",
     "evalue": "name 'fonksiyon2' is not defined",
     "output_type": "error",
     "traceback": [
      "\u001b[1;31m---------------------------------------------------------------------------\u001b[0m",
      "\u001b[1;31mNameError\u001b[0m                                 Traceback (most recent call last)",
      "\u001b[1;32m<ipython-input-16-751d3a5fd814>\u001b[0m in \u001b[0;36m<module>\u001b[1;34m\u001b[0m\n\u001b[1;32m----> 1\u001b[1;33m \u001b[0mfonksiyon2\u001b[0m\u001b[1;33m(\u001b[0m\u001b[1;33m)\u001b[0m  \u001b[1;31m# Lokal bir değişken olduğu için fonksiyon() çağrısından sonra yok oldu.\u001b[0m\u001b[1;33m\u001b[0m\u001b[1;33m\u001b[0m\u001b[0m\n\u001b[0m",
      "\u001b[1;31mNameError\u001b[0m: name 'fonksiyon2' is not defined"
     ]
    }
   ],
   "source": [
    "fonksiyon2()  # Lokal bir değişken olduğu için fonksiyon() çağrısından sonra yok oldu."
   ]
  },
  {
   "cell_type": "code",
   "execution_count": 17,
   "metadata": {},
   "outputs": [
    {
     "name": "stdout",
     "output_type": "stream",
     "text": [
      "21\n"
     ]
    }
   ],
   "source": [
    "def fonksiyon(*args): # args : (1,2,3,4,5,6)\n",
    "    \n",
    "    def topla(args): # (1,2,3,4,5,6)\n",
    "        toplam = 0\n",
    "        for i in args:\n",
    "            toplam += i\n",
    "        return toplam\n",
    "    \n",
    "    print(topla(args))\n",
    "fonksiyon(1,2,3,4,5,6)"
   ]
  },
  {
   "cell_type": "code",
   "execution_count": null,
   "metadata": {},
   "outputs": [],
   "source": [
    "***********************************"
   ]
  },
  {
   "cell_type": "code",
   "execution_count": 18,
   "metadata": {},
   "outputs": [
    {
     "data": {
      "text/plain": [
       "<function __main__.fonksiyon.<locals>.toplama(*args)>"
      ]
     },
     "execution_count": 18,
     "metadata": {},
     "output_type": "execute_result"
    }
   ],
   "source": [
    "def fonksiyon(işlem_adı):\n",
    "    \n",
    "    def toplama(*args):\n",
    "        toplam = 0\n",
    "        for i in args:\n",
    "            toplam += i\n",
    "        return toplam\n",
    "        \n",
    "    def çarpma(*args):\n",
    "        çarpım = 1\n",
    "        for i in args:\n",
    "            çarpım *= i\n",
    "        return çarpım\n",
    "    \n",
    "    if işlem_adı == \"toplama\":\n",
    "        return toplama\n",
    "    else:\n",
    "        return çarpma\n",
    "deneme = fonksiyon(\"toplama\")\n",
    "deneme # toplama fonksiyonuna eşit oldu."
   ]
  },
  {
   "cell_type": "code",
   "execution_count": 19,
   "metadata": {},
   "outputs": [
    {
     "data": {
      "text/plain": [
       "28"
      ]
     },
     "execution_count": 19,
     "metadata": {},
     "output_type": "execute_result"
    }
   ],
   "source": [
    "deneme(1,2,3,4,5,6,7)"
   ]
  },
  {
   "cell_type": "code",
   "execution_count": 20,
   "metadata": {},
   "outputs": [
    {
     "data": {
      "text/plain": [
       "362880"
      ]
     },
     "execution_count": 20,
     "metadata": {},
     "output_type": "execute_result"
    }
   ],
   "source": [
    "deneme2 = fonksiyon(\"çarpma\")\n",
    "deneme2(1,2,3,4,5,6,7,8,9)"
   ]
  },
  {
   "cell_type": "code",
   "execution_count": 21,
   "metadata": {},
   "outputs": [
    {
     "name": "stdout",
     "output_type": "stream",
     "text": [
      "7\n"
     ]
    }
   ],
   "source": [
    "def toplama(a,b):\n",
    "    return a + b\n",
    "def çıkarma(a,b):\n",
    "    return a-b\n",
    "def çarpma(a,b):\n",
    "    return a * b\n",
    "def bölme(a,b):\n",
    "    return a / b\n",
    "def anafonksiyon(func1,func2,func3,func4,işlem_adı): # Tanımladığımız 4 fonksiyonu da argüman olarak göndereceğiz.\n",
    "    if (işlem_adı == \"toplama\"):\n",
    "        print(func1(3,4))\n",
    "    elif (işlem_adı == \"çıkarma\"):\n",
    "        print(func2(10,3))\n",
    "    elif (işlem_adı == \"çarpma\"):\n",
    "        print(func3(10,3))\n",
    "    elif (işlem_adı == \"bölme\"):\n",
    "        print(func4(10,4))\n",
    "    else:\n",
    "        print(\"Geçersiz işlem adı...\")\n",
    "anafonksiyon(toplama,çıkarma,çarpma,bölme,\"toplama\")"
   ]
  },
  {
   "cell_type": "code",
   "execution_count": 22,
   "metadata": {},
   "outputs": [
    {
     "name": "stdout",
     "output_type": "stream",
     "text": [
      "2.5\n"
     ]
    }
   ],
   "source": [
    "anafonksiyon(toplama,çıkarma,çarpma,bölme,\"bölme\")"
   ]
  },
  {
   "cell_type": "code",
   "execution_count": 29,
   "metadata": {},
   "outputs": [
    {
     "name": "stdout",
     "output_type": "stream",
     "text": [
      "Bu fonksiyon 0.0 saniye sürdü.\n",
      "None\n",
      "Bu fonksiyon 0.0 saniye sürdü.\n",
      "None\n"
     ]
    }
   ],
   "source": [
    "import time\n",
    "        \n",
    "def kareleri_hesapla(sayılar):\n",
    "    sonuç = []\n",
    "    baslama =  time.time()\n",
    "    \n",
    "    for i in sayılar:\n",
    "        sonuç.append(i ** 2)\n",
    "    print(\"Bu fonksiyon \" + str(time.time() - baslama) + \" saniye sürdü.\")\n",
    "    \n",
    "def küpleri_hesapla(sayılar):\n",
    "    sonuç = []\n",
    "    baslama =  time.time()\n",
    "    for i in sayılar:\n",
    "        sonuç.append(i ** 3)\n",
    "    print(\"Bu fonksiyon \" + str(time.time() - baslama) + \" saniye sürdü.\")\n",
    " \n",
    "    \n",
    "print(kareleri_hesapla(range(10)))\n",
    "print(küpleri_hesapla(range(10)))\n",
    "\n",
    "Bu iki fonksiyonda fonksiyonların çalışma sürelerini ölçmek için time modülünü kullandık. \n",
    "Ancak dikkat ederseniz, hem bu fonksiyonlara ekstradan iş yaptırdık , hem de 2 fonksiyonda da aynı satırları yazdık. \n",
    "Yani, aslında kod tekrarına düştük. Ancak eğer bu fonksiyonlara ekstra özellik ekleyen decorator bir fonksiyonumuz olsaydı,\n",
    "burada ne kod tekrarına düşecektik ne de fonksiyonlara ekstradan satır ekleyecektik. \n",
    "İşte decoratorların tam olarak önemi budur. \n",
    "İsterseniz zaman_hesapla isimli decorator’ımızı ilk önce yazalım.\n",
    "Daha sonra decoratorları açıklamaya çalışalım."
   ]
  },
  {
   "cell_type": "code",
   "execution_count": 26,
   "metadata": {},
   "outputs": [
    {
     "name": "stdout",
     "output_type": "stream",
     "text": [
      "kareleri_hesapla 0.0 saniye sürdü.\n",
      "[0, 1, 4, 9, 16, 25, 36, 49, 64, 81]\n",
      "küpleri_hesapla 0.0 saniye sürdü.\n",
      "[0, 1, 8, 27, 64, 125, 216, 343, 512, 729]\n"
     ]
    }
   ],
   "source": [
    "import time\n",
    "def zaman_hesapla(fonksiyon):\n",
    "    def wrapper(sayılar):\n",
    "        \n",
    "        \n",
    "        baslama = time.time()\n",
    "        sonuç =  fonksiyon(sayılar)\n",
    "        bitis =  time.time()\n",
    "        print(fonksiyon.__name__ + \" \" + str(bitis-baslama) + \" saniye sürdü.\")\n",
    "        return sonuç\n",
    "    return wrapper\n",
    "    \n",
    "@zaman_hesapla\n",
    "def kareleri_hesapla(sayılar):\n",
    "    sonuç = []\n",
    "    for i in sayılar:\n",
    "        sonuç.append(i ** 2)\n",
    "    return sonuç\n",
    "@zaman_hesapla\n",
    "def küpleri_hesapla(sayılar):\n",
    "    sonuç = []\n",
    "    for i in sayılar:\n",
    "        sonuç.append(i ** 3)\n",
    "    return sonuç\n",
    "    \n",
    " \n",
    "print(kareleri_hesapla(range(10)))\n",
    "print(küpleri_hesapla(range(10)))\n",
    "\n",
    "#1. kareleri_hesapla fonksiyonu zaman_hesapla fonksiyonuna argüman olarak gidiyor.\n",
    "#2. wrapper fonksiyonu kareleri_hesapla fonksiyonuna argüman olarak gönderilen \n",
    "#\"sayılar\" argümanını argüman olarak alıyor.sd\n",
    "#3. wrapper fonksiyonu hem zaman hesaplama işlemini gerçekleştiriyor,hem de gönderilen\n",
    "#fonksiyonu çalıştırıyor. Böylelikle bu fonksiyona ekstra özellik ekliyor.\n",
    "#4.zaman_hesaplama fonksiyonu en son işlem olarak wrapper fonksiyonumuzu dönüyor."
   ]
  },
  {
   "cell_type": "code",
   "execution_count": 1,
   "metadata": {},
   "outputs": [
    {
     "name": "stdout",
     "output_type": "stream",
     "text": [
      "1\n",
      "2\n"
     ]
    }
   ],
   "source": [
    "liste = [1,2,3,4,5]\n",
    "\n",
    "iterator = iter(liste) # Iterator oluşturma\n",
    " \n",
    "print(next(iterator)) # next metoduyla sıradaki eleman\n",
    "print(next(iterator))"
   ]
  },
  {
   "cell_type": "code",
   "execution_count": 2,
   "metadata": {},
   "outputs": [
    {
     "name": "stdout",
     "output_type": "stream",
     "text": [
      "1\n",
      "4\n"
     ]
    }
   ],
   "source": [
    "def karelerial():\n",
    "    for i in range(1,6):\n",
    "        yield i ** 2 # yield anahtar kelimesi generator'un değer üretmesi için kullanılıyor.\n",
    "generator =  karelerial()\n",
    "\n",
    "iterator = iter(generator)\n",
    " \n",
    "print(next(iterator)) # 1 değeri üretildi\n",
    "print(next(iterator)) # 4 değeri üretildi 1 değeri tarihe karıştı."
   ]
  },
  {
   "cell_type": "code",
   "execution_count": 3,
   "metadata": {},
   "outputs": [
    {
     "name": "stdout",
     "output_type": "stream",
     "text": [
      "0\n",
      "3\n"
     ]
    }
   ],
   "source": [
    "generator = (i * 3 for i in range(5))\n",
    "iterator = iter(generator)\n",
    " \n",
    "print(next(iterator))\n",
    "print(next(iterator))"
   ]
  },
  {
   "cell_type": "code",
   "execution_count": 1,
   "metadata": {},
   "outputs": [
    {
     "name": "stdout",
     "output_type": "stream",
     "text": [
      "2020-11-03 09:07:23.386605\n"
     ]
    },
    {
     "data": {
      "text/plain": [
       "3"
      ]
     },
     "execution_count": 1,
     "metadata": {},
     "output_type": "execute_result"
    }
   ],
   "source": [
    "from datetime import datetime\n",
    "şu_an = datetime.now()\n",
    "print(şu_an)\n",
    "şu_an.year\n",
    "şu_an.day"
   ]
  },
  {
   "cell_type": "code",
   "execution_count": 2,
   "metadata": {},
   "outputs": [
    {
     "name": "stdout",
     "output_type": "stream",
     "text": [
      "Tue Nov  3 09:07:23 2020\n"
     ]
    }
   ],
   "source": [
    "print(datetime.ctime(şu_an)) "
   ]
  },
  {
   "cell_type": "code",
   "execution_count": 3,
   "metadata": {},
   "outputs": [
    {
     "ename": "SyntaxError",
     "evalue": "invalid syntax (<ipython-input-3-a52048a07948>, line 1)",
     "output_type": "error",
     "traceback": [
      "\u001b[1;36m  File \u001b[1;32m\"<ipython-input-3-a52048a07948>\"\u001b[1;36m, line \u001b[1;32m1\u001b[0m\n\u001b[1;33m    Yıl bilgisini almak için : %Y\u001b[0m\n\u001b[1;37m        ^\u001b[0m\n\u001b[1;31mSyntaxError\u001b[0m\u001b[1;31m:\u001b[0m invalid syntax\n"
     ]
    }
   ],
   "source": [
    "Yıl bilgisini almak için : %Y\n",
    "\n",
    "    Ay ismini almak için : %B\n",
    "\n",
    "    Gün ismini almak için : %A\n",
    "\n",
    "    Saat bilgisini almak için : %X\n",
    "\n",
    "    Gün bilgisini almak için : %D\n",
    "\n",
    "Diğer gösterimler için : https://docs.python.org/2/library/time.html"
   ]
  },
  {
   "cell_type": "code",
   "execution_count": 5,
   "metadata": {},
   "outputs": [
    {
     "name": "stdout",
     "output_type": "stream",
     "text": [
      "2020\n",
      "2020 November\n"
     ]
    }
   ],
   "source": [
    "şu_an = datetime.now()\n",
    "print(datetime.strftime(şu_an,\"%Y\"))\n",
    "print(datetime.strftime(şu_an,\"%Y %B\"))"
   ]
  },
  {
   "cell_type": "code",
   "execution_count": 6,
   "metadata": {},
   "outputs": [
    {
     "name": "stdout",
     "output_type": "stream",
     "text": [
      "English_United States.1252\n"
     ]
    }
   ],
   "source": [
    "#Buradaki yazıları Türkçe yapmaya çalışalım.\n",
    "import locale\n",
    "print(locale.setlocale(locale.LC_ALL,\"\")) konumumuz türkçe değil oyüzden olmadı ama olur."
   ]
  },
  {
   "cell_type": "code",
   "execution_count": 7,
   "metadata": {},
   "outputs": [
    {
     "name": "stdout",
     "output_type": "stream",
     "text": [
      "2020 November Tuesday\n"
     ]
    }
   ],
   "source": [
    "print(datetime.strftime(şu_an,\"%Y %B %A\")) # locale ile bulunduğumuz yerin diline çevirebiliyoruz."
   ]
  },
  {
   "cell_type": "code",
   "execution_count": 8,
   "metadata": {},
   "outputs": [
    {
     "data": {
      "text/plain": [
       "datetime.datetime(2020, 11, 3, 9, 9, 26, 146656)"
      ]
     },
     "execution_count": 8,
     "metadata": {},
     "output_type": "execute_result"
    }
   ],
   "source": [
    "şu_an"
   ]
  },
  {
   "cell_type": "code",
   "execution_count": 9,
   "metadata": {},
   "outputs": [
    {
     "data": {
      "text/plain": [
       "1604383766.146656"
      ]
     },
     "execution_count": 9,
     "metadata": {},
     "output_type": "execute_result"
    }
   ],
   "source": [
    "datetime.timestamp(şu_an)"
   ]
  },
  {
   "cell_type": "code",
   "execution_count": null,
   "metadata": {},
   "outputs": [],
   "source": []
  }
 ],
 "metadata": {
  "kernelspec": {
   "display_name": "Python 3",
   "language": "python",
   "name": "python3"
  },
  "language_info": {
   "codemirror_mode": {
    "name": "ipython",
    "version": 3
   },
   "file_extension": ".py",
   "mimetype": "text/x-python",
   "name": "python",
   "nbconvert_exporter": "python",
   "pygments_lexer": "ipython3",
   "version": "3.8.5"
  }
 },
 "nbformat": 4,
 "nbformat_minor": 4
}
