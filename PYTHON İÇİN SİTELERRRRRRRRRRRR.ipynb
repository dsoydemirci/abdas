{
 "cells": [
  {
   "cell_type": "code",
   "execution_count": null,
   "metadata": {},
   "outputs": [],
   "source": [
    "***********GELİŞMEK İÇİN**************"
   ]
  },
  {
   "cell_type": "code",
   "execution_count": null,
   "metadata": {},
   "outputs": [],
   "source": [
    "1. Sorularını Google'a İngilizce olarak sorarsan bunların hepsine kolaylıkla cevap bulabilirsin. \n",
    "Soruların için StackOverflowdan yararlanabilirsin.\n",
    "\n",
    "2. Buradaki Repoları takip ederek ve  kodları inceleyerek kendini geliştirebilirsin.\n",
    "\n",
    "3. Algoritma yeteneği kod yaza yaza ve zamanla gelişen bir şey. \n",
    "Algoritma yeteneğini geliştirmek için, Project Eulerdeki problemleri Python ile çözmeye çalışabilirsin.\n",
    "\n",
    "4. Pythonda kendini daha da ;geliştirmek için şu Youtube Kanalını takip edebilirsin.\n",
    "\n",
    "5. Kitap olarak kaynağa ihtiyacın olursa şu kitabı alabilirsin.\n",
    "\n",
    "6. Ancak en önemlisi , sürekli bir şeyler üretmeye çalışman olacaktır. \n",
    "Aklına gelen çok uçuk bir projenin bile Pythonla ve programlamayla yapılabileceğini unutma. \n",
    "O yüzden sürekli bir şeyler üretmeye çalışarak kendini geliştirebilirsin."
   ]
  },
  {
   "cell_type": "code",
   "execution_count": null,
   "metadata": {},
   "outputs": [],
   "source": [
    "https://www.tutorialspoint.com/python3/python_strings.htm başka metot lazım olursa."
   ]
  },
  {
   "cell_type": "code",
   "execution_count": null,
   "metadata": {},
   "outputs": [],
   "source": [
    "www.hackerrank.com"
   ]
  },
  {
   "cell_type": "code",
   "execution_count": null,
   "metadata": {},
   "outputs": [],
   "source": []
  }
 ],
 "metadata": {
  "kernelspec": {
   "display_name": "Python 3",
   "language": "python",
   "name": "python3"
  },
  "language_info": {
   "codemirror_mode": {
    "name": "ipython",
    "version": 3
   },
   "file_extension": ".py",
   "mimetype": "text/x-python",
   "name": "python",
   "nbconvert_exporter": "python",
   "pygments_lexer": "ipython3",
   "version": "3.8.3"
  }
 },
 "nbformat": 4,
 "nbformat_minor": 4
}
