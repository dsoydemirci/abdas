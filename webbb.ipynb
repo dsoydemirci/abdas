{
 "cells": [
  {
   "cell_type": "code",
   "execution_count": null,
   "metadata": {},
   "outputs": [],
   "source": [
    "<br> satır boşluğu\n",
    "lorem10 yaz mesela taba bas 10 kelimeli bişe yazar\n",
    "\n",
    "\n",
    " !  (ünlem) yazıp taba basınca bunlar gelir\n",
    "\n",
    "<!DOCTYPE html>\n",
    "<html lang=\"en\">\n",
    "<head>\n",
    "    <meta charset=\"UTF-8\">\n",
    "    <title>Document</title>\n",
    "</head>\n",
    "<body>\n",
    "    \n",
    "</body>\n",
    "</html>\n"
   ]
  },
  {
   "cell_type": "code",
   "execution_count": null,
   "metadata": {},
   "outputs": [],
   "source": [
    "<meta name=\"\" content=\"\">"
   ]
  },
  {
   "cell_type": "code",
   "execution_count": null,
   "metadata": {},
   "outputs": [],
   "source": [
    "<meta name=\"keywords\" content=\"hali,yikama\">\n",
    "<meta name=\"title\" content=\"Halı Yıkama Fabrikası\">\n",
    "<meta name=\"description\" content=\"7/24 halı yıkama 1994 ten beri\">"
   ]
  },
  {
   "cell_type": "code",
   "execution_count": null,
   "metadata": {},
   "outputs": [],
   "source": [
    "<h1>  Lorem ipsum dolor sit amet.</h1> yazıyı kalınlaştırır\n",
    "h2 h3 h4 diye gidersen yazı boyutu git gide düşer.\n",
    "h1 den h2 h3 h4 e önem değeri düşer\n",
    "h2 den en fazla 4 tane oluşturma tavsiye edilir\n",
    "h1 den 1 tane olması iyidir\n",
    "*****bodye eklenir****\n"
   ]
  },
  {
   "cell_type": "code",
   "execution_count": null,
   "metadata": {},
   "outputs": [],
   "source": [
    "*****bodye eklenir*******\n",
    "<p>\n",
    "       \n",
    "    </p>\n",
    "    araya yazı yazcan snra bi p etiketi daha yapıp onunda arasına yazı yazcan\n",
    "    br koymana gerek kalmadan boşluk bırakmış olursun.\n",
    "    ve böyle br yerine p ile yapma sebebimiz css te ayrı ayrı paragrafların\n",
    "    rengini boyutunu ayrı ayarlayabilmek için."
   ]
  },
  {
   "cell_type": "code",
   "execution_count": null,
   "metadata": {},
   "outputs": [],
   "source": [
    "<p>\n",
    "       <b>lorem ipsum</b> dolor sit amet.\n",
    "    </p>\n",
    "    <b> arasındaki yazı koyulaştı.\n",
    "    aynı şeyi <strong> da yapıyor. strong yazının önemi için kullanılır.\n",
    "    \n",
    "    \n",
    "    \n",
    " <p>\n",
    "       <i>askaltmaaa</i>slorem ipsum dolor sit amet.\n",
    "    </p>\n",
    "    <i> ise italik yazdırır.\n",
    "    <em> de italik yazdırır.em yazının önemi için kullanılır.yani bu önemlidemek için.\n",
    "    \n",
    "    <u> yazının altını çizer.\n",
    "    <ins> yazının altını çizer.\n",
    "    <sup> yazıyı yukarı alır. bu x kareyi yazarken işe yarıyor \n",
    "    x<sup>2</sup> böyle yapınca\n",
    "    bildiğin x kare yazısı gibi oluyor 2 yi üste alıyor.\n",
    "    <sub> ise yazıyı aşşağı alır.\n",
    "    <del> yazıyı çizer.\n",
    "    <mark> sarıya boyar. ama kalın şeyle çizmiş gibi.\n",
    "    <hr> çizgi çeker dümdüz. başlığı yaz sonra başlığın alt satırına bunu koy.\n",
    "    "
   ]
  },
  {
   "cell_type": "code",
   "execution_count": null,
   "metadata": {},
   "outputs": [],
   "source": [
    "<!DOCTYPE html>\n",
    "<html lang=\"en\">\n",
    "<head>\n",
    "    <meta charset=\"UTF-8\">\n",
    "    <title>Document</title>\n",
    "</head>\n",
    "<body>\n",
    "    <ul>\n",
    "        <li>\n",
    "           <p>Lorem ipsum dolor.</p> \n",
    "           \n",
    "           <ul>\n",
    "               <li>  alt eleman\n",
    "               \n",
    "                <ul>\n",
    "               <li>  alt eleman</li>\n",
    "           </ul>\n",
    "               </li>\n",
    "           </ul>\n",
    "        </li>\n",
    "        <li>\n",
    "            Lorem ipsum dolor.\n",
    "        </li>\n",
    "        <li>\n",
    "            Lorem ipsum dolor.\n",
    "        </li>\n",
    "    </ul>\n",
    "</body>\n",
    "</html>\n",
    "çıktı: *Lorem ipsum dolor.\n",
    "         *alt eleman\n",
    "               *alt eleman\n",
    "        *Lorem ipsum dolor.\n",
    "        *Lorem ipsum dolor."
   ]
  },
  {
   "cell_type": "code",
   "execution_count": null,
   "metadata": {},
   "outputs": [],
   "source": [
    " ol>li*2 yazdık aşağısı oldu.   \n",
    "    \n",
    "    <ol>\n",
    "       <li></li>\n",
    "       <li></li>\n",
    "   </ol>"
   ]
  },
  {
   "cell_type": "code",
   "execution_count": null,
   "metadata": {},
   "outputs": [],
   "source": [
    "   <ol >\n",
    "       <li>Lorem ipsum.</li>\n",
    "       <li>Lorem ipsum</li>\n",
    "       <li>Lorem ipsum</li>\n",
    "       \n",
    "   </ol>\n",
    "ççıktı\n",
    "1.Lorem ipsum.\n",
    "2.Lorem ipsum\n",
    "3.Lorem ipsum"
   ]
  },
  {
   "cell_type": "code",
   "execution_count": null,
   "metadata": {},
   "outputs": [],
   "source": [
    " <ol start=\"5\" >\n",
    "       <li>Lorem ipsum.</li>\n",
    "       <li>Lorem ipsum</li>\n",
    "       <li>Lorem ipsum</li>\n",
    "       \n",
    "   </ol>\n",
    "çıktı\n",
    "5.Lorem ipsum.\n",
    "6.Lorem ipsum\n",
    "7.Lorem ipsum"
   ]
  },
  {
   "cell_type": "code",
   "execution_count": null,
   "metadata": {},
   "outputs": [],
   "source": [
    "<ol start=\"5\" type=\"A\" >\n",
    "       <li>Lorem ipsum.</li>\n",
    "       <li>Lorem ipsum</li>\n",
    "       <li>Lorem ipsum</li>\n",
    "   </ol>\n",
    "\n",
    "çıktı: alfabenin 5.sinden başlar.\n",
    "    E.Lorem ipsum\n",
    "    F.Lorem ipsum\n",
    "    G.Lorem ipsum"
   ]
  },
  {
   "cell_type": "code",
   "execution_count": null,
   "metadata": {},
   "outputs": [],
   "source": [
    "https://docs.emmet.io/cheat-sheet/   kısayollar"
   ]
  },
  {
   "cell_type": "code",
   "execution_count": null,
   "metadata": {},
   "outputs": [],
   "source": [
    " ol>li>p*2\n",
    "    <ol>\n",
    "        <li>\n",
    "            <p></p>\n",
    "        </li>\n",
    "    </ol>"
   ]
  },
  {
   "cell_type": "code",
   "execution_count": null,
   "metadata": {},
   "outputs": [],
   "source": [
    " <img src=\"images.jpg\"> html ile aynı dosya içinde olacak resim sen \"\"ye basınca\n",
    "    isimler çıkıyor zaten\n",
    "    \n",
    "    <img src=\"asd.jpg\"width=\"100\"> genişlik yükseklik orantılı ayarladık\n",
    "    <img src=\"img/sads.jpg\"width=\"1000\"> img/ yazma sebebimiz resmin img dosya içindeolması\n",
    "    <img src=\"../img/sads.jpg\"width=\"1000\">  ../ koyma sebebi üst dizine çıkmak çünkü html dosyası\n",
    "    başka yerde çok mantıklı değil bu \n",
    "     <img src=\"internetsitesindekiresimlinki\"> koyarakta resim yaparsın\n",
    "        \n",
    "    "
   ]
  },
  {
   "cell_type": "code",
   "execution_count": null,
   "metadata": {},
   "outputs": [],
   "source": [
    "<!DOCTYPE html>\n",
    "<html lang=\"en\">\n",
    "<head>\n",
    "    <meta charset=\"UTF-8\">\n",
    "    <title>Document</title>\n",
    "</head>\n",
    "<body>\n",
    "   <form action=\"/Home/Register\">\n",
    "       \n",
    "       \n",
    "       <p>\n",
    "           \n",
    "           Ad: <input type=\"text\"name=\"ad\"required placeholder=\"adınızı giriniz\">\n",
    "           \n",
    "           \n",
    "       </p>\n",
    "       <p>\n",
    "           \n",
    "           Soyad: <input type \"text\"name=\"soyad\"required placeholder=\"soyadınızı giriniz\" >\n",
    "           \n",
    "           \n",
    "       </p>\n",
    "       \n",
    "       <p>\n",
    "           Eposta <input type=\"email\"name=\"email\" required>\n",
    "       </p>\n",
    "        \n",
    "           \n",
    "           Parola: <input type=\"password\">\n",
    "\n",
    "           \n",
    "           \n",
    "       \n",
    "        <p>\n",
    "           \n",
    "           Beni hatırla: <input type=\"checkbox\" name =\"benih\">\n",
    "           \n",
    "           \n",
    "       </p>\n",
    "       \n",
    "         <p>\n",
    "           \n",
    "           Erkek: <input type=\"radio\" name=\"cinsiyet\">\n",
    "           Kadın: <input type=\"radio\" name=\"cinsiyet\">\n",
    "           \n",
    "       </p>\n",
    "       <p>\n",
    "           Hobiler<br>\n",
    "           Sinema <input type=\"checkbox\"name=\"hobi\">\n",
    "           Spor <input type=\"checkbox\"name=\"hobi\">\n",
    "            pc <input type=\"checkbox\"name=\"hobi\">\n",
    "       </p>\n",
    "       <p>\n",
    "          Şehir Seç:\n",
    "           <select name=\"sehirler\">\n",
    "               <option>Kocaeli</option>\n",
    "               <option>Samsun</option>\n",
    "               <option>Bursa</option>\n",
    "               <option>Antalya</option>\n",
    "           </select>\n",
    "       </p>\n",
    "       <input type =\"submit\" value=\"Kaydetbakim\">\n",
    "   </form>\n",
    "    \n",
    "</body>\n",
    "</html>\n",
    "\n",
    "TYPE PASSWORD PAROLAYI GÖRÜNMEZ YAPAR **** BÖYLE\n",
    "REQUİRED YAZMA SEBEBİ YAZMAYINCA ONU HATA VERSİN\n",
    "PLACEHOLDER DA O İNPUT KUTU BOŞLUĞU İÇİNE SİLİK YAZI YAZIYO.\n",
    "\n",
    "ERKEK KADIN YERİNDE name=\"cinsiyet\" yapılma sebebi sadece birini seçebilsin diye\n",
    "kodu yaz bak."
   ]
  },
  {
   "cell_type": "code",
   "execution_count": null,
   "metadata": {},
   "outputs": [],
   "source": [
    "https://www.w3schools.com/html/html_form_input_types.asp"
   ]
  },
  {
   "cell_type": "code",
   "execution_count": null,
   "metadata": {},
   "outputs": [],
   "source": []
  }
 ],
 "metadata": {
  "kernelspec": {
   "display_name": "Python 3",
   "language": "python",
   "name": "python3"
  },
  "language_info": {
   "codemirror_mode": {
    "name": "ipython",
    "version": 3
   },
   "file_extension": ".py",
   "mimetype": "text/x-python",
   "name": "python",
   "nbconvert_exporter": "python",
   "pygments_lexer": "ipython3",
   "version": "3.8.3"
  }
 },
 "nbformat": 4,
 "nbformat_minor": 4
}
