{
 "cells": [
  {
   "cell_type": "code",
   "execution_count": null,
   "metadata": {},
   "outputs": [],
   "source": [
    "<br> satır boşluğu\n",
    "lorem10 yaz mesela taba bas 10 kelimeli bişe yazar\n",
    "\n",
    "\n",
    " !  (ünlem) yazıp taba basınca bunlar gelir\n",
    "\n",
    "<!DOCTYPE html>\n",
    "<html lang=\"en\">\n",
    "<head>\n",
    "    <meta charset=\"UTF-8\">\n",
    "    <title>Document</title>\n",
    "</head>\n",
    "<body>\n",
    "    \n",
    "</body>\n",
    "</html>\n"
   ]
  },
  {
   "cell_type": "code",
   "execution_count": null,
   "metadata": {},
   "outputs": [],
   "source": [
    "<meta name=\"\" content=\"\">"
   ]
  },
  {
   "cell_type": "code",
   "execution_count": null,
   "metadata": {},
   "outputs": [],
   "source": [
    "<meta name=\"keywords\" content=\"hali,yikama\">\n",
    "<meta name=\"title\" content=\"Halı Yıkama Fabrikası\">\n",
    "<meta name=\"description\" content=\"7/24 halı yıkama 1994 ten beri\">"
   ]
  },
  {
   "cell_type": "code",
   "execution_count": null,
   "metadata": {},
   "outputs": [],
   "source": [
    "<h1>  Lorem ipsum dolor sit amet.</h1> yazıyı kalınlaştırır\n",
    "h2 h3 h4 diye gidersen yazı boyutu git gide düşer.\n",
    "h1 den h2 h3 h4 e önem değeri düşer\n",
    "h2 den en fazla 4 tane oluşturma tavsiye edilir\n",
    "h1 den 1 tane olması iyidir\n",
    "*****bodye eklenir****\n"
   ]
  },
  {
   "cell_type": "code",
   "execution_count": null,
   "metadata": {},
   "outputs": [],
   "source": [
    "*****bodye eklenir*******\n",
    "<p>\n",
    "       \n",
    "    </p>\n",
    "    araya yazı yazcan snra bi p etiketi daha yapıp onunda arasına yazı yazcan\n",
    "    br koymana gerek kalmadan boşluk bırakmış olursun.\n",
    "    ve böyle br yerine p ile yapma sebebimiz css te ayrı ayrı paragrafların\n",
    "    rengini boyutunu ayrı ayarlayabilmek için."
   ]
  },
  {
   "cell_type": "code",
   "execution_count": null,
   "metadata": {},
   "outputs": [],
   "source": [
    "<p>\n",
    "       <b>lorem ipsum</b> dolor sit amet.\n",
    "    </p>\n",
    "    <b> arasındaki yazı koyulaştı.\n",
    "    aynı şeyi <strong> da yapıyor. strong yazının önemi için kullanılır.\n",
    "    \n",
    "    \n",
    "    \n",
    " <p>\n",
    "       <i>askaltmaaa</i>slorem ipsum dolor sit amet.\n",
    "    </p>\n",
    "    <i> ise italik yazdırır.\n",
    "    <em> de italik yazdırır.em yazının önemi için kullanılır.yani bu önemlidemek için.\n",
    "    \n",
    "    <u> yazının altını çizer.\n",
    "    <ins> yazının altını çizer.\n",
    "    <sup> yazıyı yukarı alır. bu x kareyi yazarken işe yarıyor \n",
    "    x<sup>2</sup> böyle yapınca\n",
    "    bildiğin x kare yazısı gibi oluyor 2 yi üste alıyor.\n",
    "    <sub> ise yazıyı aşşağı alır.\n",
    "    <del> yazıyı çizer.\n",
    "    <mark> sarıya boyar. ama kalın şeyle çizmiş gibi.\n",
    "    <hr> çizgi çeker dümdüz. başlığı yaz sonra başlığın alt satırına bunu koy.\n",
    "    "
   ]
  }
 ],
 "metadata": {
  "kernelspec": {
   "display_name": "Python 3",
   "language": "python",
   "name": "python3"
  },
  "language_info": {
   "codemirror_mode": {
    "name": "ipython",
    "version": 3
   },
   "file_extension": ".py",
   "mimetype": "text/x-python",
   "name": "python",
   "nbconvert_exporter": "python",
   "pygments_lexer": "ipython3",
   "version": "3.8.3"
  }
 },
 "nbformat": 4,
 "nbformat_minor": 4
}
